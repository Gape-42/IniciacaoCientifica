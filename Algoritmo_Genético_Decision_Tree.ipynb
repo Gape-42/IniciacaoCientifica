{
  "nbformat": 4,
  "nbformat_minor": 0,
  "metadata": {
    "colab": {
      "provenance": [],
      "authorship_tag": "ABX9TyNe1x6D1QJhwKE8x5+dZ6+t",
      "include_colab_link": true
    },
    "kernelspec": {
      "name": "python3",
      "display_name": "Python 3"
    },
    "language_info": {
      "name": "python"
    }
  },
  "cells": [
    {
      "cell_type": "markdown",
      "metadata": {
        "id": "view-in-github",
        "colab_type": "text"
      },
      "source": [
        "<a href=\"https://colab.research.google.com/github/Gape-42/IniciacaoCientifica/blob/main/Algoritmo_Gen%C3%A9tico_Decision_Tree.ipynb\" target=\"_parent\"><img src=\"https://colab.research.google.com/assets/colab-badge.svg\" alt=\"Open In Colab\"/></a>"
      ]
    },
    {
      "cell_type": "markdown",
      "source": [
        "Bibliotecas"
      ],
      "metadata": {
        "id": "H_3sZbZpPZBZ"
      }
    },
    {
      "cell_type": "code",
      "source": [
        "import random\n",
        "import math\n",
        "import pandas as pd\n",
        "import matplotlib.pyplot as plt\n",
        "from sklearn.utils import shuffle\n",
        "from sklearn.model_selection import train_test_split\n",
        "from sklearn.metrics import accuracy_score\n",
        "from sklearn.tree import DecisionTreeClassifier\n",
        "from sklearn.ensemble import RandomForestClassifier\n",
        "\n",
        "import os\n",
        "from google.colab import drive"
      ],
      "metadata": {
        "id": "Gw9CK_d0PZPi"
      },
      "execution_count": 5,
      "outputs": []
    },
    {
      "cell_type": "markdown",
      "source": [
        "Carregando conjunto de dados"
      ],
      "metadata": {
        "id": "QXUB5hkbpOjS"
      }
    },
    {
      "cell_type": "code",
      "source": [
        "from google.colab import drive\n",
        "drive.mount('/content/drive')\n",
        "base_de_dados = 'Vertebral.csv' #Alterar nome para escolher nova base de dados\n",
        "caminho_dos_dados = '/content/drive/MyDrive/Colab Notebooks/Iniciação Científica/Bases de dados/'"
      ],
      "metadata": {
        "id": "_AtWRxnoMMaX",
        "colab": {
          "base_uri": "https://localhost:8080/"
        },
        "outputId": "dfee17af-57b5-4fc9-cd4f-da805aa158b8"
      },
      "execution_count": 6,
      "outputs": [
        {
          "output_type": "stream",
          "name": "stdout",
          "text": [
            "Drive already mounted at /content/drive; to attempt to forcibly remount, call drive.mount(\"/content/drive\", force_remount=True).\n"
          ]
        }
      ]
    },
    {
      "cell_type": "code",
      "execution_count": 7,
      "metadata": {
        "id": "_xGjl9qpwjly"
      },
      "outputs": [],
      "source": [
        "dados = pd.read_csv(caminho_dos_dados + base_de_dados)\n",
        "dados = shuffle(dados)\n",
        "X = dados.iloc[:,:-1]\n",
        "Y = dados.iloc[:,-1]"
      ]
    },
    {
      "cell_type": "markdown",
      "source": [
        "Gerando os conjuntos de treino, teste e validação"
      ],
      "metadata": {
        "id": "0jL3cCN3-cd0"
      }
    },
    {
      "cell_type": "code",
      "source": [
        "x_treino,x_temp,y_treino,y_temp=train_test_split(X,Y,test_size=0.5,stratify=Y)\n",
        "x_validacao,x_teste,y_validacao,y_teste=train_test_split(x_temp,y_temp,test_size=0.5, stratify = y_temp)"
      ],
      "metadata": {
        "id": "XreTHd4x-JL2"
      },
      "execution_count": 8,
      "outputs": []
    },
    {
      "cell_type": "markdown",
      "source": [
        "Constantes"
      ],
      "metadata": {
        "id": "MFCNBJkbqCld"
      }
    },
    {
      "cell_type": "code",
      "execution_count": 9,
      "metadata": {
        "id": "cog0IG6Nqo5R"
      },
      "outputs": [],
      "source": [
        "NUM_INDIVIDUOS = 100\n",
        "NUM_GERACOES = 100\n",
        "TAXA_DE_CRUZAMENTO = 0.9 # 0.6 ... 0.9\n",
        "TAXA_DE_MUTACAO = 0.05 # 0.01 ... 0.05\n",
        "QUANTIDADE_ELITISMO = math.ceil(NUM_INDIVIDUOS/100)"
      ]
    },
    {
      "cell_type": "markdown",
      "source": [
        "Definindo os individuos"
      ],
      "metadata": {
        "id": "3itt373ZwA1j"
      }
    },
    {
      "cell_type": "code",
      "source": [
        "class individuos:\n",
        "  def __init__(self, criterio, profundidade, min_samples_leaf, min_samples_split, splitter, fitness):\n",
        "    self.criterio = criterio\n",
        "    self.profundidade = profundidade\n",
        "    self.min_samples_leaf = min_samples_leaf\n",
        "    self.min_samples_split = min_samples_split\n",
        "    self.splitter = splitter\n",
        "    self.fitness = fitness"
      ],
      "metadata": {
        "id": "L01Ymdm8rQJK"
      },
      "execution_count": 10,
      "outputs": []
    },
    {
      "cell_type": "markdown",
      "source": [
        "Funções"
      ],
      "metadata": {
        "id": "TqzoEoAYOKTo"
      }
    },
    {
      "cell_type": "code",
      "source": [
        "#Atributos\n",
        "def rand_criterio():\n",
        "  return random.choice([\"gini\", \"entropy\"])\n",
        "\n",
        "def rand_profundidade():\n",
        "  return random.randint(1, 10)\n",
        "\n",
        "def rand_min_samples_leaf():\n",
        "  return random.randint(1, 10)\n",
        "\n",
        "def rand_min_samples_split():\n",
        "  return random.randint(2, 15)\n",
        "\n",
        "def rand_splitter():\n",
        "  return random.choice([\"best\", \"random\"])\n",
        "\n",
        "def fitness_inicial():\n",
        "  return 0\n",
        "\n",
        "#Elitismo\n",
        "def elitismo(populacao):\n",
        "  melhores_individuos = sorted(populacao, key=lambda x: x.fitness, reverse=True)[:QUANTIDADE_ELITISMO]\n",
        "  return melhores_individuos\n",
        "\n",
        "#Seleção por roleta\n",
        "def probabilidade_selecao(populacao):\n",
        "  soma_fitness = sum(i.fitness for i in populacao)\n",
        "  probabilidade = []\n",
        "  for i in populacao:\n",
        "     probabilidade.append(i.fitness/soma_fitness)\n",
        "  return probabilidade\n",
        "\n",
        "def selecao(populacao, probabilidades):\n",
        "  numero_aleatorio = random.random()\n",
        "  soma = 0\n",
        "  individuo = 0\n",
        "  for i in probabilidades:\n",
        "    individuo += 1\n",
        "    soma = soma + i\n",
        "    if soma >= numero_aleatorio:\n",
        "      break\n",
        "  return populacao[individuo-1]\n",
        "\n",
        "#Cruzamento por média simples\n",
        "def cruzamento(pai1, pai2):\n",
        "\n",
        "  if(numero_aleatorio() < TAXA_DE_CRUZAMENTO):\n",
        "    filho_criterio = random.choice([pai1.criterio, pai2.criterio])\n",
        "    filho_splitter = random.choice([pai1.splitter, pai2.splitter])\n",
        "    filho_profundidade = round((pai1.profundidade + pai2.profundidade)/2)\n",
        "    filho_min_samples_leaf = round((pai1.min_samples_leaf + pai2.min_samples_leaf)/2)\n",
        "    filho_min_samples_split = round((pai1.min_samples_split + pai2.min_samples_split)/2)\n",
        "\n",
        "    filho_fitness = 0\n",
        "\n",
        "    return individuos(filho_criterio, filho_profundidade, filho_min_samples_leaf, filho_min_samples_split, filho_splitter, filho_fitness)\n",
        "  else:\n",
        "    return random.choice([pai1, pai2])\n",
        "\n",
        "#Mutação\n",
        "def numero_aleatorio():\n",
        "  return random.random()\n",
        "\n",
        "def mutacao_aleatoria():\n",
        "  return random.choice([-1, 1])\n",
        "\n",
        "def mutacao(individuo):\n",
        "    if numero_aleatorio() < TAXA_DE_MUTACAO:\n",
        "      individuo.criterio = rand_criterio()\n",
        "    if numero_aleatorio() < TAXA_DE_MUTACAO:\n",
        "      individuo.splitter = rand_splitter()\n",
        "    if numero_aleatorio() < TAXA_DE_MUTACAO:\n",
        "      individuo.profundidade += mutacao_aleatoria()\n",
        "      if individuo.profundidade < 1:\n",
        "        individuo.profundidade = 1\n",
        "      if individuo.profundidade > 10:\n",
        "        individuo.profundidade = 10\n",
        "    if numero_aleatorio() < TAXA_DE_MUTACAO:\n",
        "      individuo.min_samples_leaf += mutacao_aleatoria()\n",
        "      if individuo.min_samples_leaf < 1:\n",
        "        individuo.min_samples_leaf = 1\n",
        "      if individuo.min_samples_leaf > 10:\n",
        "        individuo.min_samples_leaf = 10\n",
        "    if numero_aleatorio() < TAXA_DE_MUTACAO:\n",
        "      individuo.min_samples_split += mutacao_aleatoria()\n",
        "      if individuo.min_samples_split < 2:\n",
        "        individuo.min_samples_split = 2\n",
        "      if individuo.min_samples_split > 15:\n",
        "        individuo.min_samples_split = 15\n",
        "    return individuo\n",
        "\n",
        "def arvore_decisao(individuo):\n",
        "  AD = DecisionTreeClassifier(criterion=individuo.criterio, max_depth=individuo.profundidade, min_samples_leaf=individuo.min_samples_leaf ,min_samples_split=individuo.min_samples_split ,splitter=individuo.splitter)\n",
        "  AD.fit(x_treino,y_treino)\n",
        "  opiniao = AD.predict(x_validacao)\n",
        "  return accuracy_score(y_validacao, opiniao)\n",
        "\n",
        "def print_populacao(populacao):\n",
        "  print(\"Individuo\\t Critério\\t Profundidade\\t Min_samples_leaf\\t Min_samples_split\\t Splitter\\t Fitness\")\n",
        "\n",
        "  for i in range(0, NUM_INDIVIDUOS):\n",
        "    print(i, \"\\t\\t\", end=\"\")\n",
        "    print(populacao[i].criterio, \"   \\t\\t\", end=\"\")\n",
        "    print(populacao[i].profundidade, \"\\t\\t\", end=\"\")\n",
        "    print(populacao[i].min_samples_leaf, \"\\t\\t\\t\", end=\"\")\n",
        "    print(populacao[i].min_samples_split, \"\\t\\t\", end=\"\")\n",
        "    print(populacao[i].splitter, \"\\t\\t\\t\", end=\"\")\n",
        "    print(populacao[i].fitness)\n",
        "\n",
        "def o_melhor(populacao):\n",
        "  melhor = sorted(populacao, key=lambda x: x.fitness, reverse=True)[:1]\n",
        "  return melhor[0]\n",
        "\n",
        "def media_dos_fitness():\n",
        "  media_fitness = (sum(individuos.fitness for individuos in populacao))/NUM_INDIVIDUOS\n",
        "  return media_fitness"
      ],
      "metadata": {
        "id": "8MjiuUiLN-v0"
      },
      "execution_count": 11,
      "outputs": []
    },
    {
      "cell_type": "markdown",
      "source": [
        "Criando a primeira população"
      ],
      "metadata": {
        "id": "RCCbgZOmRMmZ"
      }
    },
    {
      "cell_type": "code",
      "source": [
        "populacao = []\n",
        "populacaoAux = []\n",
        "melhores_individuos = []\n",
        "media_fitness = []\n",
        "melhor_geracao = []\n",
        "\n",
        "for i in range(0, NUM_INDIVIDUOS):\n",
        "  populacao.append(individuos(rand_criterio(), rand_profundidade(), rand_min_samples_leaf(), rand_min_samples_split(), rand_splitter(), fitness_inicial()))\n",
        "\n",
        "  populacao[i].fitness = arvore_decisao(populacao[i])"
      ],
      "metadata": {
        "id": "f1d4yxzYRMHG"
      },
      "execution_count": 12,
      "outputs": []
    },
    {
      "cell_type": "markdown",
      "source": [
        "Seleção, cruzamento e mutação até acabar as gerações"
      ],
      "metadata": {
        "id": "mDnDKfm65OX8"
      }
    },
    {
      "cell_type": "code",
      "source": [
        "for j in range (NUM_GERACOES):\n",
        "  melhor_da_geracao = o_melhor(populacao)\n",
        "  melhores_individuos.append(melhor_da_geracao)\n",
        "  melhor_geracao.append(melhor_da_geracao.fitness)\n",
        "  media_fitness.append(media_dos_fitness())\n",
        "  populacaoAux = elitismo(populacao).copy()\n",
        "  for i in range(len(populacao) - QUANTIDADE_ELITISMO):\n",
        "    probabilidades = probabilidade_selecao(populacao)\n",
        "    pai1 = selecao(populacao, probabilidades)\n",
        "    pai2 = selecao(populacao, probabilidades)\n",
        "    while (pai1 == pai2):\n",
        "      pai2 = selecao(populacao, probabilidades)\n",
        "    filho = cruzamento(pai1, pai2)\n",
        "    filho = mutacao(filho)\n",
        "\n",
        "    populacaoAux.append(filho)\n",
        "\n",
        "  populacao = populacaoAux\n",
        "\n",
        "  for i in range(len(populacao)):\n",
        "    populacao[i].fitness = arvore_decisao(populacao[i])"
      ],
      "metadata": {
        "id": "it9GNuEn5c9G",
        "collapsed": true
      },
      "execution_count": 13,
      "outputs": []
    },
    {
      "cell_type": "markdown",
      "source": [
        "Gerando o gráfico"
      ],
      "metadata": {
        "id": "YhmnR6oXFJoM"
      }
    },
    {
      "cell_type": "code",
      "source": [
        "eixo_geracoes = [0]\n",
        "for i in range(NUM_GERACOES - 1):\n",
        "  eixo_geracoes.append(i+1)\n",
        "\n",
        "plt.title(\"Fitness por Geração\")\n",
        "plt.xlabel(\"Geração\")\n",
        "plt.ylabel(\"Fitness\")\n",
        "\n",
        "\n",
        "plt.ylim([0, 1])\n",
        "\n",
        "\n",
        "fitness = []\n",
        "for i in range(NUM_GERACOES):\n",
        "  fitness.append(melhores_individuos[i].fitness)\n",
        "\n",
        "# plt.plot(eixo_geracoes, fitness)\n",
        "plt.plot(eixo_geracoes, media_fitness)\n",
        "plt.plot(eixo_geracoes, melhor_geracao)\n",
        "\n",
        "plt.legend(['Média da geração','Melhor da geração'])\n",
        "plt.show()"
      ],
      "metadata": {
        "colab": {
          "base_uri": "https://localhost:8080/",
          "height": 472
        },
        "id": "divlbG8eiNgY",
        "outputId": "fe222758-025d-41e9-e588-c28bb864e2b6"
      },
      "execution_count": 14,
      "outputs": [
        {
          "output_type": "display_data",
          "data": {
            "text/plain": [
              "<Figure size 640x480 with 1 Axes>"
            ],
            "image/png": "[encoded data removed]"
          },
          "metadata": {}
        }
      ]
    },
    {
      "cell_type": "code",
      "source": [
        "melhor_individuo = o_melhor(melhores_individuos)\n",
        "print(\"Melhor individuo\\n\")\n",
        "print(f\"Critério: \\t\\t\", melhor_individuo.criterio)\n",
        "print(f\"Profundidade: \\t\\t\", melhor_individuo.profundidade)\n",
        "print(f\"Min samples leaf: \\t\", melhor_individuo.min_samples_leaf)\n",
        "print(f\"Min samples split: \\t\", melhor_individuo.min_samples_split)\n",
        "print(f\"Splitter: \\t\\t\", melhor_individuo.splitter)\n",
        "print(f\"Fitness: \\t\\t\", melhor_individuo.fitness)"
      ],
      "metadata": {
        "colab": {
          "base_uri": "https://localhost:8080/"
        },
        "id": "h1yiZq_fHJ2L",
        "outputId": "83f513e8-a8eb-44c7-ec62-02c8010fd4af"
      },
      "execution_count": 15,
      "outputs": [
        {
          "output_type": "stream",
          "name": "stdout",
          "text": [
            "Melhor individuo\n",
            "\n",
            "Critério: \t\t gini\n",
            "Profundidade: \t\t 3\n",
            "Min samples leaf: \t 5\n",
            "Min samples split: \t 2\n",
            "Splitter: \t\t best\n",
            "Fitness: \t\t 0.8441558441558441\n"
          ]
        }
      ]
    },
    {
      "cell_type": "markdown",
      "source": [
        "Testando a melhor configuração"
      ],
      "metadata": {
        "id": "iPQOt5ekaJpW"
      }
    },
    {
      "cell_type": "code",
      "source": [
        "def arvore_decisao_teste(individuo):\n",
        "  AD = DecisionTreeClassifier(criterion=individuo.criterio, max_depth=individuo.profundidade, min_samples_leaf=individuo.min_samples_leaf ,min_samples_split=individuo.min_samples_split ,splitter=individuo.splitter)\n",
        "  AD.fit(x_treino,y_treino)\n",
        "  opiniao = AD.predict(x_teste)\n",
        "  return accuracy_score(y_teste, opiniao)\n",
        "\n",
        "acuracia = arvore_decisao_teste(melhor_individuo)\n",
        "print(\"Acurácia: \", acuracia)\n",
        "\n",
        "# for i in range(len(melhores_individuos)):\n",
        "#   melhor = arvore_decisao_teste(melhores_individuos[i])\n",
        "#   print(\"Acurácia do melhor individuo: \", melhor)"
      ],
      "metadata": {
        "colab": {
          "base_uri": "https://localhost:8080/"
        },
        "id": "Bgp-v1-4gEJm",
        "outputId": "fd0cd6b1-a6ac-46f8-a868-2ac6a1ebc06b"
      },
      "execution_count": 16,
      "outputs": [
        {
          "output_type": "stream",
          "name": "stdout",
          "text": [
            "Acurácia:  0.8205128205128205\n"
          ]
        }
      ]
    },
    {
      "cell_type": "code",
      "source": [
        "media_acuracia = 0\n",
        "for i in range(100):\n",
        "    acuracia  = arvore_decisao_teste(melhor_individuo)\n",
        "    # print(acuracia)\n",
        "    media_acuracia += acuracia\n",
        "\n",
        "media_acuracia /= 100\n",
        "\n",
        "print(\"Média acurácia: \", media_acuracia)"
      ],
      "metadata": {
        "colab": {
          "base_uri": "https://localhost:8080/"
        },
        "id": "5wswhNkxWomk",
        "outputId": "3762aece-cd6b-4ebc-9118-2236824cd1fb"
      },
      "execution_count": 17,
      "outputs": [
        {
          "output_type": "stream",
          "name": "stdout",
          "text": [
            "Média acurácia:  0.8205128205128189\n"
          ]
        }
      ]
    }
  ]
}