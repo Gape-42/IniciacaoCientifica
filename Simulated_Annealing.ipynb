{
  "nbformat": 4,
  "nbformat_minor": 0,
  "metadata": {
    "colab": {
      "provenance": [],
      "mount_file_id": "1KgP5eRqSuxBXIQmv0esUGVuV3y0aNfHi",
      "authorship_tag": "ABX9TyPnKmVne1qsARxlbJanAo2i",
      "include_colab_link": true
    },
    "kernelspec": {
      "name": "python3",
      "display_name": "Python 3"
    },
    "language_info": {
      "name": "python"
    }
  },
  "cells": [
    {
      "cell_type": "markdown",
      "metadata": {
        "id": "view-in-github",
        "colab_type": "text"
      },
      "source": [
        "<a href=\"https://colab.research.google.com/github/Gape-42/IniciacaoCientifica/blob/main/Simulated_Annealing.ipynb\" target=\"_parent\"><img src=\"https://colab.research.google.com/assets/colab-badge.svg\" alt=\"Open In Colab\"/></a>"
      ]
    },
    {
      "cell_type": "markdown",
      "metadata": {
        "id": "ASyF54qs_iNH"
      },
      "source": [
        "**Importando bibliotecas**\n",
        "\n",
        "\n"
      ]
    },
    {
      "cell_type": "code",
      "source": [
        "import pandas as pd\n",
        "import random\n",
        "import math\n",
        "import copy\n",
        "from matplotlib import pyplot as plt\n",
        "from sklearn.utils import shuffle\n",
        "from sklearn.model_selection import train_test_split\n",
        "from sklearn.tree import DecisionTreeClassifier\n",
        "from sklearn.metrics import accuracy_score"
      ],
      "metadata": {
        "id": "c9DK1JJpJaq2"
      },
      "execution_count": null,
      "outputs": []
    },
    {
      "cell_type": "markdown",
      "source": [
        "Carregando conjunto de dados"
      ],
      "metadata": {
        "id": "QXUB5hkbpOjS"
      }
    },
    {
      "cell_type": "code",
      "source": [
        "from google.colab import drive\n",
        "drive.mount('/content/drive')"
      ],
      "metadata": {
        "id": "_AtWRxnoMMaX",
        "colab": {
          "base_uri": "https://localhost:8080/"
        },
        "outputId": "33f2a2d5-85be-472c-fa23-22e8f2e5a58e"
      },
      "execution_count": null,
      "outputs": [
        {
          "output_type": "stream",
          "name": "stdout",
          "text": [
            "Drive already mounted at /content/drive; to attempt to forcibly remount, call drive.mount(\"/content/drive\", force_remount=True).\n"
          ]
        }
      ]
    },
    {
      "cell_type": "code",
      "execution_count": null,
      "metadata": {
        "id": "_xGjl9qpwjly"
      },
      "outputs": [],
      "source": [
        "dados = pd.read_csv(\"/content/Vertebral.csv\")\n",
        "dados = shuffle(dados)\n",
        "X = dados.iloc[:,:-1]\n",
        "Y = dados.iloc[:,-1]"
      ]
    },
    {
      "cell_type": "markdown",
      "source": [
        "Gerando os conjuntos de treino, teste e validação"
      ],
      "metadata": {
        "id": "0jL3cCN3-cd0"
      }
    },
    {
      "cell_type": "code",
      "source": [
        "x_treino,x_temp,y_treino,y_temp=train_test_split(X,Y,test_size=0.5,stratify=Y)\n",
        "x_validacao,x_teste,y_validacao,y_teste=train_test_split(x_temp,y_temp,test_size=0.5, stratify = y_temp)"
      ],
      "metadata": {
        "id": "XreTHd4x-JL2"
      },
      "execution_count": null,
      "outputs": []
    },
    {
      "cell_type": "markdown",
      "source": [
        " Constantes"
      ],
      "metadata": {
        "id": "xvlQpoah6pw_"
      }
    },
    {
      "cell_type": "code",
      "source": [
        "SA_MAX = 5\n",
        "ALFA = 0.995"
      ],
      "metadata": {
        "id": "VLBTVhVR6bJP"
      },
      "execution_count": null,
      "outputs": []
    },
    {
      "cell_type": "markdown",
      "source": [
        "Definindo os individuos"
      ],
      "metadata": {
        "id": "3itt373ZwA1j"
      }
    },
    {
      "cell_type": "code",
      "source": [
        "class individuos:\n",
        "  def __init__(self, criterio, profundidade, min_samples_leaf, min_samples_split, splitter, fitness):\n",
        "    self.criterio = criterio\n",
        "    self.profundidade = profundidade\n",
        "    self.min_samples_leaf = min_samples_leaf\n",
        "    self.min_samples_split = min_samples_split\n",
        "    self.splitter = splitter\n",
        "    self.fitness = fitness"
      ],
      "metadata": {
        "id": "L01Ymdm8rQJK"
      },
      "execution_count": null,
      "outputs": []
    },
    {
      "cell_type": "markdown",
      "source": [
        "Funções"
      ],
      "metadata": {
        "id": "ygr8gdnv8bgX"
      }
    },
    {
      "cell_type": "code",
      "source": [
        "def arvore_decisao(individuo):\n",
        "  AD = DecisionTreeClassifier(criterion=individuo.criterio, max_depth=individuo.profundidade, min_samples_leaf=individuo.min_samples_leaf ,min_samples_split=individuo.min_samples_split ,splitter=individuo.splitter)\n",
        "  AD.fit(x_treino,y_treino)\n",
        "  opiniao = AD.predict(x_validacao)\n",
        "  return accuracy_score(y_validacao, opiniao)\n",
        "\n",
        "def arvore_decisao_teste(individuo):\n",
        "  AD = DecisionTreeClassifier(criterion=individuo.criterio, max_depth=individuo.profundidade, min_samples_leaf=individuo.min_samples_leaf ,min_samples_split=individuo.min_samples_split ,splitter=individuo.splitter)\n",
        "  AD.fit(x_treino,y_treino)\n",
        "  opiniao = AD.predict(x_teste)\n",
        "  return accuracy_score(y_teste, opiniao)\n",
        "\n",
        "def printarIndividuo(individuo):\n",
        "  print(\"critério:\\t\\t\", individuo.criterio)\n",
        "  print(\"profundidade:\\t\\t\", individuo.profundidade)\n",
        "  print(\"min_samples_leaf:\\t\", individuo.min_samples_leaf)\n",
        "  print(\"min_samples_split:\\t\", individuo.min_samples_split)\n",
        "  print(\"splitter:\\t\\t\", individuo.splitter)\n",
        "  print(\"fitness:\\t\\t\", individuo.fitness)\n",
        "  print()\n",
        "\n",
        "def metropolis():\n",
        "    return random.random()\n",
        "\n",
        "def gerarIndividuoAleatorio():\n",
        "    individuo = individuos(None, None, None, None, None, None)\n",
        "    individuo.criterio = random.choice([\"gini\", \"entropy\"])\n",
        "    individuo.profundidade = random.randint(1, 10)\n",
        "    individuo.min_samples_leaf = random.randint(1, 10)\n",
        "    individuo.min_samples_split = random.randint(2, 15)\n",
        "    individuo.splitter = random.choice([\"best\", \"random\"])\n",
        "    individuo.fitness = 0\n",
        "    return individuo\n",
        "\n",
        "#Esolhe um atributo para modificar e fazer um vizinho\n",
        "def escolherAtributo():\n",
        "    return random.choice([\"criterio\", \"profundidade\", \"min_samples_leaf\", \"min_samples_split\", \"splitter\"])\n",
        "\n",
        "def gerarVizinho(individuo, Atributo):\n",
        "    vizinho = copy.copy(individuo) #Por que altera o original sem copy?\n",
        "\n",
        "    if Atributo == \"criterio\":\n",
        "        vizinho.criterio = random.choice([\"gini\", \"entropy\"])\n",
        "    if Atributo == \"profundidade\":\n",
        "        vizinho.profundidade = random.randint(1, 10)\n",
        "    if Atributo == \"min_samples_leaf\":\n",
        "        vizinho.min_samples_leaf = random.randint(1, 10)\n",
        "    if Atributo == \"min_samples_split\":\n",
        "        vizinho.min_samples_split = random.randint(2, 15)\n",
        "    if Atributo == \"splitter\":\n",
        "        vizinho.splitter = random.choice([\"best\", \"random\"])\n",
        "\n",
        "    return vizinho\n",
        "\n",
        "\n",
        "#Variação da solução atual\n",
        "#∆E = Ei+1 - Ei\n",
        "def variacaoSolucao(individuo, vizinho):\n",
        "    return vizinho.fitness - individuo.fitness\n",
        "\n",
        "#Probabilidade de aceitar piora (minimização)\n",
        "# P(∆E) = e^(∆E/T)\n",
        "def probabilidadePiora(variacao, temperatura):\n",
        "    return math.exp(variacao / temperatura)\n",
        "\n",
        "#Resfriamento\n",
        "def resfriamento(temperatura):\n",
        "    return temperatura * ALFA\n",
        "\n",
        "#Gerar temperatura inicial\n",
        "\n",
        "def temperaturaInicial():\n",
        "    ind1 = gerarIndividuoAleatorio()\n",
        "    vizinhos = []\n",
        "    TempInicial = 0\n",
        "    # ind1.fitness = arvore_decisao(ind1)   #Remover linha\n",
        "    for i in range (3):\n",
        "      vizinhos.append(gerarVizinho(ind1, escolherAtributo()))\n",
        "      vizinhos[i].fitness = arvore_decisao(vizinhos[i])\n",
        "\n",
        "    for i in range (3):\n",
        "      TempInicial = TempInicial + vizinhos[i].fitness\n",
        "    TempInicial = TempInicial/3\n",
        "\n",
        "    return TempInicial\n"
      ],
      "metadata": {
        "id": "lGJtjt2k8eJh"
      },
      "execution_count": null,
      "outputs": []
    },
    {
      "cell_type": "markdown",
      "source": [
        "Iniciando o algoritmo"
      ],
      "metadata": {
        "id": "ySIfgt9s3VOu"
      }
    },
    {
      "cell_type": "code",
      "source": [
        "solucao_atual = gerarIndividuoAleatorio()\n",
        "solucao_atual.fitness = arvore_decisao(solucao_atual)\n",
        "melhor_individuo = solucao_atual\n",
        "temperatura = temperaturaInicial()\n",
        "iteracao = 0\n",
        "\n",
        "#gráfico\n",
        "temperaturas = []\n",
        "melhores_individuos = []\n",
        "# temperaturas.append(temperatura)\n",
        "# melhores_individuos.append(solucao_atual)\n",
        "\n",
        "\n",
        "while(temperatura > 0.005):\n",
        "    #grafico\n",
        "    temperaturas.append(temperatura)\n",
        "    melhores_individuos.append(melhor_individuo.fitness)\n",
        "\n",
        "    while(iteracao < SA_MAX):\n",
        "        iteracao += 1\n",
        "        vizinho = gerarVizinho(solucao_atual, escolherAtributo())\n",
        "        vizinho.fitness = arvore_decisao(vizinho)\n",
        "\n",
        "        #verificação do critério de aceitação\n",
        "        # print(\"inicial:\")\n",
        "        # printarIndividuo(solucao_atual)\n",
        "        # print(\"vizinho:\")\n",
        "        # printarIndividuo(vizinho)\n",
        "\n",
        "        #delta maior que 0, aceita\n",
        "        delta = variacaoSolucao(solucao_atual, vizinho)\n",
        "        # print(\"delta: \", delta)\n",
        "\n",
        "        if(delta > 0):\n",
        "            # print(\"caso 1\")\n",
        "            solucao_atual = vizinho\n",
        "            if(vizinho.fitness > melhor_individuo.fitness):\n",
        "                # print(\"caso 2\")\n",
        "                melhor_individuo = vizinho\n",
        "        else:\n",
        "            # print(\"caso 3\")\n",
        "            x = metropolis()\n",
        "            piora = probabilidadePiora(delta, temperatura)\n",
        "            # print(\"x:\", x)\n",
        "            # print(\"piora:\", piora)\n",
        "            if(x < piora): #verifcar se é < ou >\n",
        "                # print(\"caso 4\")\n",
        "                solucao_atual = vizinho\n",
        "\n",
        "    temperatura = resfriamento(temperatura)\n",
        "    iteracao = 0\n",
        "\n",
        "\n",
        "\n",
        "solucao_atual = melhor_individuo\n",
        "\n",
        "printarIndividuo(solucao_atual)"
      ],
      "metadata": {
        "colab": {
          "base_uri": "https://localhost:8080/"
        },
        "id": "01BZAh2d3RGW",
        "outputId": "bbd26588-1f3f-4300-90ce-f6875440d59e"
      },
      "execution_count": null,
      "outputs": [
        {
          "output_type": "stream",
          "name": "stdout",
          "text": [
            "critério:\t\t entropy\n",
            "profundidade:\t\t 4\n",
            "min_samples_leaf:\t 4\n",
            "min_samples_split:\t 5\n",
            "splitter:\t\t random\n",
            "fitness:\t\t 0.8831168831168831\n",
            "\n"
          ]
        }
      ]
    },
    {
      "cell_type": "markdown",
      "source": [
        "Gerando o gráfico"
      ],
      "metadata": {
        "id": "VrkgAvWatMCm"
      }
    },
    {
      "cell_type": "code",
      "source": [
        "# plt.title(\"Fitness por temperatura\")\n",
        "# plt.xlabel(\"Temperatura\")\n",
        "# plt.ylabel(\"Fitness\")\n",
        "# plt.plot(temperaturas, melhores_individuos)\n",
        "\n",
        "# ax = plt.gca()\n",
        "# ax.invert_xaxis()\n",
        "\n",
        "# plt.grid(True)\n",
        "# plt.show()\n",
        "\n",
        "# # print(\"Temperaturas\", temperaturas)\n",
        "# # print(\"Melhores Individuos\", melhores_individuos)\n",
        "# # print(len(temperaturas))\n",
        "# # print(len(melhores_individuos))"
      ],
      "metadata": {
        "id": "X1IEzdwZtLeD"
      },
      "execution_count": null,
      "outputs": []
    },
    {
      "cell_type": "markdown",
      "source": [
        "Grafico V2"
      ],
      "metadata": {
        "id": "cxbROZGcciEE"
      }
    },
    {
      "cell_type": "code",
      "source": [
        "quantidade_temperaturas = len(temperaturas)\n",
        "id_temperaturas =  list(range(quantidade_temperaturas, 0, -1))\n",
        "ax1 = plt.gca()\n",
        "ax1.invert_xaxis()\n",
        "plt.grid(True)\n",
        "plt.plot(id_temperaturas, temperaturas, label=\"Temperatura\")\n",
        "plt.plot(id_temperaturas, melhores_individuos, label=\"Fitness\")\n",
        "plt.legend()\n",
        "plt.show()\n",
        "\n",
        "print(quantidade_temperaturas)\n",
        "print(temperaturas)\n",
        "print(melhores_individuos)"
      ],
      "metadata": {
        "colab": {
          "base_uri": "https://localhost:8080/",
          "height": 502
        },
        "id": "8zyHcZgucjnj",
        "outputId": "7dd3e1c4-a6d5-4013-985a-3e00777da03a"
      },
      "execution_count": null,
      "outputs": [
        {
          "output_type": "display_data",
          "data": {
            "text/plain": [
              "<Figure size 640x480 with 1 Axes>"
            ],
            "image/png": "[encoded data removed]"
          },
          "metadata": {}
        },
        {
          "output_type": "stream",
          "name": "stdout",
          "text": [
            "1016\n",
            "[0.8138528138528138, 0.8097835497835497, 0.8057346320346319, 0.8017059588744587, 0.7976974290800865, 0.793708941934686, 0.7897403972250125, 0.7857916952388875, 0.781862736762693, 0.7779534230788796, 0.7740636559634853, 0.7701933376836678, 0.7663423709952495, 0.7625106591402733, 0.7586981058445719, 0.754904615315349, 0.7511300922387723, 0.7473744417775784, 0.7436375695686905, 0.739919381720847, 0.7362197848122428, 0.7325386858881816, 0.7288759924587407, 0.725231612496447, 0.7216054544339647, 0.7179974271617949, 0.714407440025986, 0.7108354028258561, 0.7072812258117268, 0.7037448196826682, 0.7002260955842549, 0.6967249651063335, 0.6932413402808019, 0.6897751335793979, 0.6863262579115009, 0.6828946266219434, 0.6794801534888337, 0.6760827527213895, 0.6727023389577825, 0.6693388272629937, 0.6659921331266787, 0.6626621724610453, 0.6593488615987401, 0.6560521172907464, 0.6527718567042927, 0.6495079974207713, 0.6462604574336674, 0.643029155146499, 0.6398140093707666, 0.6366149393239128, 0.6334318646272932, 0.6302647053041567, 0.6271133817776359, 0.6239778148687477, 0.6208579257944039, 0.6177536361654319, 0.6146648679846047, 0.6115915436446817, 0.6085335859264583, 0.6054909179968261, 0.602463463406842, 0.5994511460898078, 0.5964538903593587, 0.5934716209075619, 0.590504262803024, 0.5875517414890089, 0.5846139827815638, 0.5816909128676561, 0.5787824583033178, 0.5758885460118012, 0.5730091032817421, 0.5701440577653334, 0.5672933374765067, 0.5644568707891241, 0.5616345864351785, 0.5588264135030026, 0.5560322814354876, 0.5532521200283101, 0.5504858594281686, 0.5477334301310278, 0.5449947629803726, 0.5422697891654708, 0.5395584402196434, 0.5368606480185452, 0.5341763447784524, 0.5315054630545601, 0.5288479357392873, 0.5262036960605909, 0.5235726775802879, 0.5209548141923864, 0.5183500401214245, 0.5157582899208174, 0.5131794984712134, 0.5106136009788573, 0.508060532973963, 0.5055202303090932, 0.5029926291575477, 0.50047766601176, 0.49797527768170124, 0.4954854012932927, 0.49300797428682624, 0.4905429344153921, 0.4880902197433151, 0.4856497686445985, 0.4832215198013755, 0.4808054122023686, 0.47840138514135677, 0.47600937821565, 0.47362933132457175, 0.47126118466794886, 0.4689048787446091, 0.46656035435088605, 0.4642275525791316, 0.46190641481623596, 0.45959688274215477, 0.457298898328444, 0.4550124038368018, 0.45273734181761777, 0.45047365510852966, 0.448221286832987, 0.4459801803988221, 0.443750279496828, 0.4415315280993439, 0.43932387045884713, 0.43712725110655287, 0.4349416148510201, 0.432766906776765, 0.4306030722428812, 0.42845005688166676, 0.4263078065972584, 0.4241762675642721, 0.4220553862264508, 0.41994510929531853, 0.41784538374884195, 0.41575615683009776, 0.4136773760459473, 0.41160898916571753, 0.40955094421988897, 0.4075031894987895, 0.40546567355129554, 0.40343834518353905, 0.40142115345762136, 0.39941404769033323, 0.39741697745188154, 0.39542989256462213, 0.393452743101799, 0.39148547938629, 0.3895280519893586, 0.38758041172941177, 0.3856425096707647, 0.38371429712241084, 0.3817957256367988, 0.3798867470086148, 0.3779873132735717, 0.37609737670720383, 0.3742168898236678, 0.3723458053745495, 0.3704840763476767, 0.36863165596593833, 0.36678849768610866, 0.3649545551976781, 0.3631297824216897, 0.36131413350958125, 0.35950756284203333, 0.3577100250278232, 0.35592147490268405, 0.3541418675281706, 0.3523711581905298, 0.3506093023995771, 0.34885625588757924, 0.34711197460814136, 0.34537641473510067, 0.34364953266142517, 0.34193128499811803, 0.34022162857312743, 0.3385205204302618, 0.3368279178281105, 0.33514377823896996, 0.3334680593477751, 0.33180071905103625, 0.3301417154557811, 0.3284910068785022, 0.32684855184410966, 0.32521430908488913, 0.3235882375394647, 0.3219702963517674, 0.32036044487000853, 0.3187586426456585, 0.31716484943243023, 0.3155790251852681, 0.31400113005934177, 0.3124311244090451, 0.3108689687869999, 0.30931462394306486, 0.3077680508233495, 0.30622921056923275, 0.3046980645163866, 0.30317457419380467, 0.3016587013228356, 0.30015040781622143, 0.2986496557771403, 0.2971564074982546, 0.29567062546076334, 0.2941922723334595, 0.2927213109717922, 0.29125770441693327, 0.2898014158948486, 0.28835240881537433, 0.28691064677129746, 0.28547609353744097, 0.28404871306975377, 0.282628469504405, 0.28121532715688297, 0.27980925052109856, 0.27841020426849306, 0.27701815324715057, 0.2756330624809148, 0.2742548971685102, 0.27288362268266764, 0.2715192045692543, 0.270161608546408, 0.268810800503676, 0.26746674650115765, 0.2661294127686519, 0.2647987657048086, 0.26347477187628454, 0.26215739801690313, 0.2608466110268186, 0.2595423779716845, 0.25824466608182606, 0.2569534427514169, 0.2556686755376598, 0.25439033215997153, 0.2531183804991717, 0.2518527885966758, 0.25059352465369245, 0.249340557030424, 0.24809385424527186, 0.2468533849740455, 0.24561911804917527, 0.2443910224589294, 0.24316906734663477, 0.2419532220099016, 0.2407434558998521, 0.23953973862035285, 0.2383420399272511, 0.23715032972761482, 0.23596457807897675, 0.23478475518858186, 0.23361083141263894, 0.23244277725557574, 0.23128056336929786, 0.23012416055245138, 0.22897353974968912, 0.22782867205094068, 0.22668952869068598, 0.22555608104723254, 0.22442830064199637, 0.22330615913878638, 0.22218962834309244, 0.22107868020137697, 0.2199732868003701, 0.21887342036636825, 0.21777905326453642, 0.21669015799821373, 0.21560670720822267, 0.21452867367218156, 0.21345603030382065, 0.21238875015230155, 0.21132680640154003, 0.21027017236953233, 0.20921882150768467, 0.20817272740014625, 0.20713186376314552, 0.2060962044443298, 0.20506572342210816, 0.2040403948049976, 0.2030201928309726, 0.20200509186681775, 0.20099506640748366, 0.19999009107544624, 0.198990140620069, 0.19799518991696866, 0.19700521396738382, 0.1960201878975469, 0.19504008695805916, 0.19406488652326886, 0.1930945620906525, 0.19212908928019926, 0.19116844383379825, 0.19021260161462925, 0.1892615386065561, 0.1883152309135233, 0.1873736547589557, 0.18643678648516093, 0.18550460255273513, 0.18457707953997146, 0.1836541941422716, 0.18273592317156023, 0.18182224355570242, 0.18091313233792392, 0.1800085666762343, 0.17910852384285314, 0.17821298122363888, 0.17732191631752067, 0.17643530673593308, 0.1755531302022534, 0.17467536455124213, 0.17380198772848593, 0.1729329777898435, 0.1720683129008943, 0.17120797133638982, 0.17035193147970787, 0.16950017182230934, 0.16865267096319778, 0.16780940760838178, 0.16697036057033987, 0.16613550876748817, 0.16530483122365072, 0.16447830706753247, 0.1636559155321948, 0.16283763595453382, 0.16202344777476116, 0.16121333053588735, 0.16040726388320792, 0.1596052275637919, 0.15880720142597293, 0.15801316541884305, 0.15722309959174885, 0.15643698409379012, 0.15565479917332117, 0.15487652517745457, 0.1541021425515673, 0.15333163183880946, 0.1525649736796154, 0.15180214881121734, 0.15104313806716124, 0.15028792237682542, 0.1495364827649413, 0.1487888003511166, 0.14804485634936101, 0.1473046320676142, 0.14656810890727615, 0.14583526836273977, 0.1451060920209261, 0.14438056156082146, 0.14365865875301737, 0.1429403654592523, 0.14222566363195602, 0.14151453531379624, 0.14080696263722725, 0.1401029278240411, 0.1394024131849209, 0.1387054011189963, 0.13801187411340132, 0.1373218147428343, 0.13663520566912013, 0.13595202964077452, 0.13527226949257065, 0.1345959081451078, 0.13392292860438226, 0.13325331396136036, 0.13258704739155355, 0.1319241121545958, 0.1312644915938228, 0.13060816913585369, 0.12995512829017442, 0.12930535264872353, 0.12865882588547992, 0.12801553175605251, 0.12737545409727224, 0.12673857682678588, 0.12610488394265196, 0.1254743595229387, 0.124846987725324, 0.12422275278669738, 0.12360163902276389, 0.12298363082765007, 0.12236871267351182, 0.12175686911014426, 0.12114808476459353, 0.12054234434077056, 0.1199396326190667, 0.11933993445597137, 0.1187432347836915, 0.11814951860977305, 0.11755877101672418, 0.11697097716164057, 0.11638612227583237, 0.1158041916644532, 0.11522517070613093, 0.11464904485260027, 0.11407579962833728, 0.11350542063019559, 0.11293789352704461, 0.11237320405940938, 0.11181133803911233, 0.11125228134891678, 0.1106960199421722, 0.11014253984246133, 0.10959182714324903, 0.10904386800753278, 0.10849864866749512, 0.10795615542415764, 0.10741637464703685, 0.10687929277380166, 0.10634489630993266, 0.105813171828383, 0.10528410596924108, 0.10475768543939487, 0.1042338970121979, 0.10371272752713691, 0.10319416388950123, 0.10267819307005373, 0.10216480210470345, 0.10165397809417993, 0.10114570820370904, 0.10063997966269049, 0.10013677976437704, 0.09963609586555516, 0.09913791538622739, 0.09864222580929626, 0.09814901468024978, 0.09765826960684854, 0.0971699782588143, 0.09668412836752022, 0.09620070772568262, 0.09571970418705421, 0.09524110566611893, 0.09476490013778834, 0.09429107563709939, 0.0938196202589139, 0.09335052215761933, 0.09288376954683122, 0.09241935069909707, 0.09195725394560159, 0.09149746767587358, 0.0910399803374942, 0.09058478043580673, 0.0901318565336277, 0.08968119725095955, 0.08923279126470475, 0.08878662730838123, 0.08834269417183932, 0.08790098070098012, 0.08746147579747522, 0.08702416841848784, 0.0865890475763954, 0.08615610233851342, 0.08572532182682085, 0.08529669521768675, 0.08487021174159831, 0.08444586068289033, 0.08402363137947587, 0.08360351322257849, 0.08318549565646559, 0.08276956817818326, 0.08235572033729234, 0.08194394173560587, 0.08153422202692784, 0.0811265509167932, 0.08072091816220923, 0.0803173135713982, 0.0799157270035412, 0.0795161483685235, 0.07911856762668087, 0.07872297478854746, 0.07832935991460473, 0.0779377131150317, 0.07754802454945654, 0.07716028442670926, 0.07677448300457572, 0.07639061058955283, 0.07600865753660507, 0.07562861424892205, 0.07525047117767744, 0.07487421882178906, 0.07449984772768012, 0.07412734848904172, 0.07375671174659651, 0.07338792818786352, 0.07302098854692421, 0.07265588360418959, 0.07229260418616865, 0.0719311411652378, 0.07157148545941161, 0.07121362803211455, 0.07085755989195397, 0.0705032720924942, 0.07015075573203172, 0.06980000195337156, 0.0694510019436047, 0.06910374693388668, 0.06875822819921724, 0.06841443705822116, 0.06807236487293006, 0.0677320030485654, 0.06739334303332258, 0.06705637631815596, 0.06672109443656518, 0.06638748896438236, 0.06605555151956045, 0.06572527376196265, 0.06539664739315283, 0.06506966415618706, 0.06474431583540613, 0.0644205942562291, 0.06409849128494796, 0.06377799882852322, 0.0634591088343806, 0.06314181329020871, 0.06282610422375766, 0.06251197370263888, 0.06219941383412568, 0.06188841676495505, 0.06157897468113028, 0.06127107980772463, 0.06096472440868601, 0.06065990078664257, 0.06035660128270936, 0.06005481827629581, 0.05975454418491433, 0.059455771463989754, 0.059158492606669805, 0.058862700143636454, 0.058568386642918274, 0.05827554470970368, 0.05798416698615516, 0.057694246151224385, 0.057405774920468264, 0.05711874604586592, 0.05683315231563659, 0.056548986554058406, 0.05626624162128811, 0.055984910413181675, 0.05570498586111577, 0.05542646093181019, 0.055149328627151134, 0.05487358198401538, 0.054599214074095306, 0.05432621800372483, 0.0540545869137062, 0.053784313979137674, 0.05351539240924198, 0.05324781544719577, 0.052981576369959794, 0.05271666848811, 0.052453085145669445, 0.0521908197199411, 0.051929865621341394, 0.051670216293234685, 0.051411865211768513, 0.05115480588570967, 0.05089903185628112, 0.05064453669699971, 0.05039131401351471, 0.050139357443447136, 0.0498886606562299, 0.049639217352948746, 0.049391021266184, 0.049144066159853075, 0.04889834582905381, 0.048653854099908536, 0.04841058482940899, 0.04816853190526195, 0.04792768924573564, 0.04768805079950696, 0.047449610545509426, 0.04721236249278188, 0.04697630068031797, 0.04674141917691638, 0.04650771208103179, 0.046275173520626635, 0.0460437976530235, 0.04581357866475838, 0.04558451077143459, 0.04535658821757742, 0.04512980527648953, 0.04490415625010708, 0.044679635468856546, 0.04445623729151226, 0.0442339561050547, 0.04401278632452942, 0.043792722392906776, 0.04357375878094224, 0.04335588998703753, 0.04313911053710234, 0.04292341498441683, 0.04270879790949475, 0.042495253919947275, 0.04228277765034754, 0.042071363762095804, 0.041861006943285324, 0.0416517019085689, 0.04144344339902606, 0.041236226182030926, 0.04103004505112077, 0.04082489482586516, 0.040620770351735835, 0.040417666499977155, 0.04021557816747727, 0.040014500276639886, 0.039814427775256685, 0.0396153556363804, 0.0394172788581985, 0.039220192463907504, 0.03902409150158796, 0.03882897104408002, 0.03863482618885962, 0.03844165205791532, 0.038249443797625744, 0.03805819657863761, 0.037867905595744426, 0.037678566067765706, 0.03749017323742688, 0.037302722371239744, 0.03711620875938355, 0.03693062771558663, 0.0367459745770087, 0.036562244704123656, 0.03637943348060304, 0.036197536313200024, 0.036016548631634025, 0.03583646588847585, 0.03565728355903348, 0.03547899714123831, 0.035301602155532116, 0.035125094144754454, 0.03494946867403068, 0.03477472133066053, 0.034600847724007226, 0.03442784348538719, 0.03425570426796025, 0.03408442574662045, 0.033914003617887344, 0.03374443359979791, 0.03357571143179892, 0.03340783287463992, 0.033240793710266725, 0.03307458974171539, 0.03290921679300682, 0.03274467070904179, 0.032580947355496576, 0.03241804261871909, 0.032255952405625496, 0.03209467264359737, 0.03193419928037938, 0.031774528283977484, 0.0316156556425576, 0.03145757736434481, 0.031300289477523086, 0.03114378803013547, 0.03098806908998479, 0.030833128744534866, 0.030678963100812192, 0.03052556828530813, 0.03037294044388159, 0.03022107574166218, 0.03006997036295387, 0.0299196205111391, 0.029770022408583403, 0.029621172296540488, 0.029473066435057784, 0.029325701102882493, 0.029179072597368082, 0.02903317723438124, 0.028888011348209335, 0.028743571291468286, 0.028599853435010945, 0.02845685416783589, 0.02831456989699671, 0.028172997047511725, 0.028032132062274166, 0.027891971401962794, 0.02775251154495298, 0.027613748987228213, 0.02747568024229207, 0.02733830184108061, 0.027201610331875205, 0.02706560228021583, 0.026930274268814752, 0.02679562289747068, 0.026661644782983326, 0.02652833655906841, 0.026395694876273065, 0.0262637164018917, 0.02613239781988224, 0.02600173583078283, 0.025871727151628915, 0.02574236851587077, 0.025613656673291418, 0.02548558838992496, 0.025358160447975335, 0.025231369645735458, 0.02510521279750678, 0.024979686733519246, 0.02485478829985165, 0.02473051435835239, 0.02460686178656063, 0.024483827477627826, 0.024361408340239688, 0.02423960129853849, 0.024118403292045797, 0.02399781127558557, 0.02387782221920764, 0.023758433108111602, 0.023639640942571045, 0.02352144273785819, 0.0234038355241689, 0.023286816346548056, 0.023170382264815315, 0.02305453035349124, 0.022939257701723784, 0.022824561413215164, 0.02271043860614909, 0.02259688641311834, 0.02248390198105275, 0.022371482471147487, 0.02225962505879175, 0.022148326933497792, 0.022037585298830303, 0.021927397372336153, 0.02181776038547447, 0.0217086715835471, 0.021600128225629362, 0.021492127584501215, 0.021384666946578708, 0.021277743611845815, 0.021171354893786586, 0.021065498119317655, 0.020960170628721065, 0.02085536977557746, 0.02075109292669957, 0.02064733746206607, 0.02054410077475574, 0.02044138027088196, 0.020339173369527553, 0.020237477502679915, 0.020136290115166516, 0.020035608664590684, 0.019935430621267732, 0.019835753468161393, 0.019736574700820585, 0.019637891827316484, 0.019539702368179902, 0.019442003856339003, 0.019344793837057308, 0.01924806986787202, 0.01915182951853266, 0.019056070370939995, 0.018960790019085294, 0.018865986068989867, 0.018771656138644916, 0.018677797857951692, 0.018584408868661934, 0.018491486824318625, 0.01839902939019703, 0.018307034243246048, 0.01821549907202982, 0.01812442157666967, 0.01803379946878632, 0.017943630471442387, 0.017853912319085175, 0.01776464275748975, 0.0176758195437023, 0.01758744044598379, 0.01749950324375387, 0.017412005727535103, 0.017324945698897427, 0.01723832097040294, 0.017152129365550925, 0.01706636871872317, 0.016981036875129554, 0.016896131690753907, 0.01681165103230014, 0.016727592777138638, 0.016643954813252943, 0.016560735039186678, 0.016477931363990745, 0.01639554170717079, 0.016313563998634935, 0.01623199617864176, 0.016150836197748552, 0.016070082016759808, 0.015989731606676008, 0.015909782948642627, 0.015830234033899413, 0.015751082863729917, 0.01567232744941127, 0.015593965812164212, 0.015515995983103392, 0.015438416003187875, 0.015361223923171935, 0.015284417803556076, 0.015207995714538295, 0.015131955735965603, 0.015056295957285776, 0.014981014477499346, 0.01490610940511185, 0.01483157885808629, 0.014757420963795858, 0.014683633858976879, 0.014610215689681995, 0.014537164611233585, 0.014464478788177417, 0.01439215639423653, 0.014320195612265347, 0.01424859463420402, 0.014177351661033, 0.014106464902727836, 0.014035932578214196, 0.013965752915323126, 0.01389592415074651, 0.013826444529992777, 0.013757312307342813, 0.0136885257458061, 0.013620083117077068, 0.013551982701491683, 0.013484222787984225, 0.013416801674044304, 0.013349717665674082, 0.013282969077345712, 0.013216554231958983, 0.013150471460799189, 0.013084719103495193, 0.013019295507977717, 0.012954199030437829, 0.01288942803528564, 0.012824980895109212, 0.012760855990633667, 0.012697051710680498, 0.012633566452127095, 0.01257039861986646, 0.012507546626767127, 0.012445008893633291, 0.012382783849165125, 0.0123208699299193, 0.012259265580269702, 0.012197969252368353, 0.012136979406106512, 0.012076294509075979, 0.0120159130365306, 0.011955833471347946, 0.011896054303991207, 0.01183657403247125, 0.011777391162308894, 0.01171850420649735, 0.011659911685464862, 0.011601612127037537, 0.01154360406640235, 0.011485886046070337, 0.011428456615839985, 0.011371314332760785, 0.01131445776109698, 0.011257885472291496, 0.011201596044930038, 0.011145588064705388, 0.01108986012438186, 0.01103441082375995, 0.01097923876964115, 0.010924342575792945, 0.01086972086291398, 0.01081537225859941, 0.010761295397306412, 0.01070748892031988, 0.01065395147571828, 0.010600681718339689, 0.01054767830974799, 0.010494939918199251, 0.010442465218608254, 0.010390252892515214, 0.010338301628052637, 0.010286610119912373, 0.01023517706931281, 0.010184001183966247, 0.010133081178046415, 0.010082415772156182, 0.010032003693295401, 0.009981843674828924, 0.00993193445645478, 0.009882274784172506, 0.009832863410251644, 0.009783699093200387, 0.009734780597734385, 0.009686106694745712, 0.009637676161271983, 0.009589487780465623, 0.009541540341563294, 0.009493832639855478, 0.009446363476656202, 0.00939913165927292, 0.009352136000976556, 0.009305375320971674, 0.009258848444366816, 0.009212554202144983, 0.009166491431134257, 0.009120658973978586, 0.009075055679108693, 0.00902968040071315, 0.008984531998709584, 0.008939609338716036, 0.008894911292022455, 0.008850436735562343, 0.008806184551884531, 0.008762153629125108, 0.008718342860979483, 0.008674751146674585, 0.008631377390941213, 0.008588220503986506, 0.008545279401466573, 0.00850255300445924, 0.008460040239436943, 0.008417740038239759, 0.00837565133804856, 0.008333773081358317, 0.008292104215951526, 0.008250643694871768, 0.00820939047639741, 0.008168343524015423, 0.008127501806395345, 0.00808686429736337, 0.008046429975876552, 0.00800619782599717, 0.007966166836867183, 0.007926336002682848, 0.007886704322669434, 0.007847270801056088, 0.007808034447050807, 0.007768994274815553, 0.007730149303441475, 0.007691498556924267, 0.007653041064139645, 0.007614775858818947, 0.007576701979524853, 0.007538818469627229, 0.007501124377279092, 0.007463618755392696, 0.007426300661615733, 0.007389169158307654, 0.007352223312516116, 0.0073154621959535355, 0.007278884884973768, 0.007242490460548899, 0.007206278008246155, 0.007170246618204924, 0.007134395385113899, 0.00709872340818833, 0.007063229791147388, 0.007027913642191651, 0.0069927740739806924, 0.006957810203610789, 0.006923021152592735, 0.0068884060468297715, 0.006853964016595623, 0.006819694196512645, 0.0067855957255300815, 0.006751667746902431, 0.006717909408167919, 0.0066843198611270796, 0.0066508982618214444, 0.006617643770512337, 0.006584555551659776, 0.006551632773901477, 0.006518874610031969, 0.00648628023698181, 0.0064538488357969, 0.006421579591617915, 0.006389471693659826, 0.006357524335191526, 0.006325736713515569, 0.006294108029947991, 0.006262637489798251, 0.00623132430234926, 0.0062001676808375135, 0.006169166842433326, 0.0061383210082211585, 0.0061076294031800525, 0.006077091256164152, 0.006046705799883332, 0.006016472270883915, 0.005986389909529496, 0.005956457959981848, 0.005926675670181939, 0.005897042291831029, 0.005867557080371874, 0.005838219294970014, 0.005809028198495164, 0.005779983057502688, 0.005751083142215175, 0.005722327726504099, 0.005693716087871579, 0.00566524750743222, 0.005636921269895059, 0.0056087366635455835, 0.005580692980227855, 0.005552789515326716, 0.0055250255677500824, 0.005497400439911332, 0.005469913437711775, 0.005442563870523216, 0.0054153510511706, 0.005388274295914748, 0.005361332924435174, 0.005334526259812998, 0.005307853628513933, 0.0052813143603713635, 0.005254907788569506, 0.005228633249626659, 0.005202490083378525, 0.005176477632961632, 0.005150595244796824, 0.00512484226857284, 0.005099218057229976, 0.005073721966943826, 0.005048353357109107, 0.005023111590323562]\n",
            "[0.7012987012987013, 0.8311688311688312, 0.8311688311688312, 0.8311688311688312, 0.8311688311688312, 0.8571428571428571, 0.8571428571428571, 0.8571428571428571, 0.8571428571428571, 0.8571428571428571, 0.8571428571428571, 0.8571428571428571, 0.8571428571428571, 0.8571428571428571, 0.8571428571428571, 0.8571428571428571, 0.8571428571428571, 0.8571428571428571, 0.8571428571428571, 0.8571428571428571, 0.8571428571428571, 0.8571428571428571, 0.8571428571428571, 0.8571428571428571, 0.8571428571428571, 0.8701298701298701, 0.8701298701298701, 0.8701298701298701, 0.8701298701298701, 0.8701298701298701, 0.8701298701298701, 0.8701298701298701, 0.8701298701298701, 0.8701298701298701, 0.8701298701298701, 0.8701298701298701, 0.8701298701298701, 0.8701298701298701, 0.8701298701298701, 0.8701298701298701, 0.8701298701298701, 0.8701298701298701, 0.8701298701298701, 0.8701298701298701, 0.8701298701298701, 0.8701298701298701, 0.8701298701298701, 0.8701298701298701, 0.8701298701298701, 0.8701298701298701, 0.8701298701298701, 0.8701298701298701, 0.8701298701298701, 0.8701298701298701, 0.8701298701298701, 0.8701298701298701, 0.8701298701298701, 0.8701298701298701, 0.8701298701298701, 0.8701298701298701, 0.8701298701298701, 0.8701298701298701, 0.8701298701298701, 0.8701298701298701, 0.8701298701298701, 0.8701298701298701, 0.8701298701298701, 0.8701298701298701, 0.8701298701298701, 0.8701298701298701, 0.8701298701298701, 0.8701298701298701, 0.8701298701298701, 0.8701298701298701, 0.8701298701298701, 0.8701298701298701, 0.8701298701298701, 0.8701298701298701, 0.8701298701298701, 0.8701298701298701, 0.8701298701298701, 0.8701298701298701, 0.8701298701298701, 0.8701298701298701, 0.8701298701298701, 0.8701298701298701, 0.8701298701298701, 0.8701298701298701, 0.8701298701298701, 0.8701298701298701, 0.8701298701298701, 0.8701298701298701, 0.8701298701298701, 0.8701298701298701, 0.8701298701298701, 0.8701298701298701, 0.8701298701298701, 0.8701298701298701, 0.8701298701298701, 0.8701298701298701, 0.8701298701298701, 0.8701298701298701, 0.8701298701298701, 0.8701298701298701, 0.8701298701298701, 0.8701298701298701, 0.8701298701298701, 0.8701298701298701, 0.8701298701298701, 0.8701298701298701, 0.8701298701298701, 0.8701298701298701, 0.8701298701298701, 0.8701298701298701, 0.8701298701298701, 0.8701298701298701, 0.8701298701298701, 0.8701298701298701, 0.8701298701298701, 0.8701298701298701, 0.8701298701298701, 0.8701298701298701, 0.8701298701298701, 0.8701298701298701, 0.8701298701298701, 0.8701298701298701, 0.8701298701298701, 0.8701298701298701, 0.8701298701298701, 0.8701298701298701, 0.8701298701298701, 0.8701298701298701, 0.8701298701298701, 0.8701298701298701, 0.8701298701298701, 0.8701298701298701, 0.8701298701298701, 0.8701298701298701, 0.8701298701298701, 0.8701298701298701, 0.8701298701298701, 0.8701298701298701, 0.8701298701298701, 0.8701298701298701, 0.8701298701298701, 0.8701298701298701, 0.8701298701298701, 0.8701298701298701, 0.8701298701298701, 0.8701298701298701, 0.8701298701298701, 0.8701298701298701, 0.8701298701298701, 0.8701298701298701, 0.8701298701298701, 0.8701298701298701, 0.8701298701298701, 0.8701298701298701, 0.8701298701298701, 0.8701298701298701, 0.8701298701298701, 0.8701298701298701, 0.8701298701298701, 0.8701298701298701, 0.8701298701298701, 0.8701298701298701, 0.8701298701298701, 0.8701298701298701, 0.8701298701298701, 0.8701298701298701, 0.8701298701298701, 0.8701298701298701, 0.8701298701298701, 0.8701298701298701, 0.8701298701298701, 0.8701298701298701, 0.8701298701298701, 0.8701298701298701, 0.8701298701298701, 0.8701298701298701, 0.8701298701298701, 0.8701298701298701, 0.8701298701298701, 0.8701298701298701, 0.8701298701298701, 0.8701298701298701, 0.8701298701298701, 0.8701298701298701, 0.8701298701298701, 0.8701298701298701, 0.8701298701298701, 0.8701298701298701, 0.8701298701298701, 0.8701298701298701, 0.8701298701298701, 0.8701298701298701, 0.8701298701298701, 0.8701298701298701, 0.8701298701298701, 0.8701298701298701, 0.8701298701298701, 0.8701298701298701, 0.8701298701298701, 0.8701298701298701, 0.8701298701298701, 0.8701298701298701, 0.8701298701298701, 0.8701298701298701, 0.8701298701298701, 0.8701298701298701, 0.8701298701298701, 0.8701298701298701, 0.8701298701298701, 0.8701298701298701, 0.8701298701298701, 0.8701298701298701, 0.8701298701298701, 0.8701298701298701, 0.8701298701298701, 0.8701298701298701, 0.8701298701298701, 0.8701298701298701, 0.8701298701298701, 0.8701298701298701, 0.8701298701298701, 0.8701298701298701, 0.8701298701298701, 0.8701298701298701, 0.8701298701298701, 0.8701298701298701, 0.8701298701298701, 0.8701298701298701, 0.8701298701298701, 0.8701298701298701, 0.8701298701298701, 0.8701298701298701, 0.8701298701298701, 0.8701298701298701, 0.8701298701298701, 0.8701298701298701, 0.8701298701298701, 0.8701298701298701, 0.8701298701298701, 0.8701298701298701, 0.8701298701298701, 0.8701298701298701, 0.8701298701298701, 0.8701298701298701, 0.8701298701298701, 0.8701298701298701, 0.8701298701298701, 0.8701298701298701, 0.8701298701298701, 0.8701298701298701, 0.8701298701298701, 0.8701298701298701, 0.8701298701298701, 0.8701298701298701, 0.8701298701298701, 0.8701298701298701, 0.8701298701298701, 0.8701298701298701, 0.8701298701298701, 0.8701298701298701, 0.8701298701298701, 0.8701298701298701, 0.8701298701298701, 0.8701298701298701, 0.8701298701298701, 0.8701298701298701, 0.8701298701298701, 0.8701298701298701, 0.8701298701298701, 0.8701298701298701, 0.8701298701298701, 0.8701298701298701, 0.8701298701298701, 0.8701298701298701, 0.8701298701298701, 0.8701298701298701, 0.8701298701298701, 0.8701298701298701, 0.8701298701298701, 0.8701298701298701, 0.8701298701298701, 0.8701298701298701, 0.8701298701298701, 0.8701298701298701, 0.8701298701298701, 0.8701298701298701, 0.8701298701298701, 0.8701298701298701, 0.8701298701298701, 0.8701298701298701, 0.8701298701298701, 0.8701298701298701, 0.8831168831168831, 0.8831168831168831, 0.8831168831168831, 0.8831168831168831, 0.8831168831168831, 0.8831168831168831, 0.8831168831168831, 0.8831168831168831, 0.8831168831168831, 0.8831168831168831, 0.8831168831168831, 0.8831168831168831, 0.8831168831168831, 0.8831168831168831, 0.8831168831168831, 0.8831168831168831, 0.8831168831168831, 0.8831168831168831, 0.8831168831168831, 0.8831168831168831, 0.8831168831168831, 0.8831168831168831, 0.8831168831168831, 0.8831168831168831, 0.8831168831168831, 0.8831168831168831, 0.8831168831168831, 0.8831168831168831, 0.8831168831168831, 0.8831168831168831, 0.8831168831168831, 0.8831168831168831, 0.8831168831168831, 0.8831168831168831, 0.8831168831168831, 0.8831168831168831, 0.8831168831168831, 0.8831168831168831, 0.8831168831168831, 0.8831168831168831, 0.8831168831168831, 0.8831168831168831, 0.8831168831168831, 0.8831168831168831, 0.8831168831168831, 0.8831168831168831, 0.8831168831168831, 0.8831168831168831, 0.8831168831168831, 0.8831168831168831, 0.8831168831168831, 0.8831168831168831, 0.8831168831168831, 0.8831168831168831, 0.8831168831168831, 0.8831168831168831, 0.8831168831168831, 0.8831168831168831, 0.8831168831168831, 0.8831168831168831, 0.8831168831168831, 0.8831168831168831, 0.8831168831168831, 0.8831168831168831, 0.8831168831168831, 0.8831168831168831, 0.8831168831168831, 0.8831168831168831, 0.8831168831168831, 0.8831168831168831, 0.8831168831168831, 0.8831168831168831, 0.8831168831168831, 0.8831168831168831, 0.8831168831168831, 0.8831168831168831, 0.8831168831168831, 0.8831168831168831, 0.8831168831168831, 0.8831168831168831, 0.8831168831168831, 0.8831168831168831, 0.8831168831168831, 0.8831168831168831, 0.8831168831168831, 0.8831168831168831, 0.8831168831168831, 0.8831168831168831, 0.8831168831168831, 0.8831168831168831, 0.8831168831168831, 0.8831168831168831, 0.8831168831168831, 0.8831168831168831, 0.8831168831168831, 0.8831168831168831, 0.8831168831168831, 0.8831168831168831, 0.8831168831168831, 0.8831168831168831, 0.8831168831168831, 0.8831168831168831, 0.8831168831168831, 0.8831168831168831, 0.8831168831168831, 0.8831168831168831, 0.8831168831168831, 0.8831168831168831, 0.8831168831168831, 0.8831168831168831, 0.8831168831168831, 0.8831168831168831, 0.8831168831168831, 0.8831168831168831, 0.8831168831168831, 0.8831168831168831, 0.8831168831168831, 0.8831168831168831, 0.8831168831168831, 0.8831168831168831, 0.8831168831168831, 0.8831168831168831, 0.8831168831168831, 0.8831168831168831, 0.8831168831168831, 0.8831168831168831, 0.8831168831168831, 0.8831168831168831, 0.8831168831168831, 0.8831168831168831, 0.8831168831168831, 0.8831168831168831, 0.8831168831168831, 0.8831168831168831, 0.8831168831168831, 0.8831168831168831, 0.8831168831168831, 0.8831168831168831, 0.8831168831168831, 0.8831168831168831, 0.8831168831168831, 0.8831168831168831, 0.8831168831168831, 0.8831168831168831, 0.8831168831168831, 0.8831168831168831, 0.8831168831168831, 0.8831168831168831, 0.8831168831168831, 0.8831168831168831, 0.8831168831168831, 0.8831168831168831, 0.8831168831168831, 0.8831168831168831, 0.8831168831168831, 0.8831168831168831, 0.8831168831168831, 0.8831168831168831, 0.8831168831168831, 0.8831168831168831, 0.8831168831168831, 0.8831168831168831, 0.8831168831168831, 0.8831168831168831, 0.8831168831168831, 0.8831168831168831, 0.8831168831168831, 0.8831168831168831, 0.8831168831168831, 0.8831168831168831, 0.8831168831168831, 0.8831168831168831, 0.8831168831168831, 0.8831168831168831, 0.8831168831168831, 0.8831168831168831, 0.8831168831168831, 0.8831168831168831, 0.8831168831168831, 0.8831168831168831, 0.8831168831168831, 0.8831168831168831, 0.8831168831168831, 0.8831168831168831, 0.8831168831168831, 0.8831168831168831, 0.8831168831168831, 0.8831168831168831, 0.8831168831168831, 0.8831168831168831, 0.8831168831168831, 0.8831168831168831, 0.8831168831168831, 0.8831168831168831, 0.8831168831168831, 0.8831168831168831, 0.8831168831168831, 0.8831168831168831, 0.8831168831168831, 0.8831168831168831, 0.8831168831168831, 0.8831168831168831, 0.8831168831168831, 0.8831168831168831, 0.8831168831168831, 0.8831168831168831, 0.8831168831168831, 0.8831168831168831, 0.8831168831168831, 0.8831168831168831, 0.8831168831168831, 0.8831168831168831, 0.8831168831168831, 0.8831168831168831, 0.8831168831168831, 0.8831168831168831, 0.8831168831168831, 0.8831168831168831, 0.8831168831168831, 0.8831168831168831, 0.8831168831168831, 0.8831168831168831, 0.8831168831168831, 0.8831168831168831, 0.8831168831168831, 0.8831168831168831, 0.8831168831168831, 0.8831168831168831, 0.8831168831168831, 0.8831168831168831, 0.8831168831168831, 0.8831168831168831, 0.8831168831168831, 0.8831168831168831, 0.8831168831168831, 0.8831168831168831, 0.8831168831168831, 0.8831168831168831, 0.8831168831168831, 0.8831168831168831, 0.8831168831168831, 0.8831168831168831, 0.8831168831168831, 0.8831168831168831, 0.8831168831168831, 0.8831168831168831, 0.8831168831168831, 0.8831168831168831, 0.8831168831168831, 0.8831168831168831, 0.8831168831168831, 0.8831168831168831, 0.8831168831168831, 0.8831168831168831, 0.8831168831168831, 0.8831168831168831, 0.8831168831168831, 0.8831168831168831, 0.8831168831168831, 0.8831168831168831, 0.8831168831168831, 0.8831168831168831, 0.8831168831168831, 0.8831168831168831, 0.8831168831168831, 0.8831168831168831, 0.8831168831168831, 0.8831168831168831, 0.8831168831168831, 0.8831168831168831, 0.8831168831168831, 0.8831168831168831, 0.8831168831168831, 0.8831168831168831, 0.8831168831168831, 0.8831168831168831, 0.8831168831168831, 0.8831168831168831, 0.8831168831168831, 0.8831168831168831, 0.8831168831168831, 0.8831168831168831, 0.8831168831168831, 0.8831168831168831, 0.8831168831168831, 0.8831168831168831, 0.8831168831168831, 0.8831168831168831, 0.8831168831168831, 0.8831168831168831, 0.8831168831168831, 0.8831168831168831, 0.8831168831168831, 0.8831168831168831, 0.8831168831168831, 0.8831168831168831, 0.8831168831168831, 0.8831168831168831, 0.8831168831168831, 0.8831168831168831, 0.8831168831168831, 0.8831168831168831, 0.8831168831168831, 0.8831168831168831, 0.8831168831168831, 0.8831168831168831, 0.8831168831168831, 0.8831168831168831, 0.8831168831168831, 0.8831168831168831, 0.8831168831168831, 0.8831168831168831, 0.8831168831168831, 0.8831168831168831, 0.8831168831168831, 0.8831168831168831, 0.8831168831168831, 0.8831168831168831, 0.8831168831168831, 0.8831168831168831, 0.8831168831168831, 0.8831168831168831, 0.8831168831168831, 0.8831168831168831, 0.8831168831168831, 0.8831168831168831, 0.8831168831168831, 0.8831168831168831, 0.8831168831168831, 0.8831168831168831, 0.8831168831168831, 0.8831168831168831, 0.8831168831168831, 0.8831168831168831, 0.8831168831168831, 0.8831168831168831, 0.8831168831168831, 0.8831168831168831, 0.8831168831168831, 0.8831168831168831, 0.8831168831168831, 0.8831168831168831, 0.8831168831168831, 0.8831168831168831, 0.8831168831168831, 0.8831168831168831, 0.8831168831168831, 0.8831168831168831, 0.8831168831168831, 0.8831168831168831, 0.8831168831168831, 0.8831168831168831, 0.8831168831168831, 0.8831168831168831, 0.8831168831168831, 0.8831168831168831, 0.8831168831168831, 0.8831168831168831, 0.8831168831168831, 0.8831168831168831, 0.8831168831168831, 0.8831168831168831, 0.8831168831168831, 0.8831168831168831, 0.8831168831168831, 0.8831168831168831, 0.8831168831168831, 0.8831168831168831, 0.8831168831168831, 0.8831168831168831, 0.8831168831168831, 0.8831168831168831, 0.8831168831168831, 0.8831168831168831, 0.8831168831168831, 0.8831168831168831, 0.8831168831168831, 0.8831168831168831, 0.8831168831168831, 0.8831168831168831, 0.8831168831168831, 0.8831168831168831, 0.8831168831168831, 0.8831168831168831, 0.8831168831168831, 0.8831168831168831, 0.8831168831168831, 0.8831168831168831, 0.8831168831168831, 0.8831168831168831, 0.8831168831168831, 0.8831168831168831, 0.8831168831168831, 0.8831168831168831, 0.8831168831168831, 0.8831168831168831, 0.8831168831168831, 0.8831168831168831, 0.8831168831168831, 0.8831168831168831, 0.8831168831168831, 0.8831168831168831, 0.8831168831168831, 0.8831168831168831, 0.8831168831168831, 0.8831168831168831, 0.8831168831168831, 0.8831168831168831, 0.8831168831168831, 0.8831168831168831, 0.8831168831168831, 0.8831168831168831, 0.8831168831168831, 0.8831168831168831, 0.8831168831168831, 0.8831168831168831, 0.8831168831168831, 0.8831168831168831, 0.8831168831168831, 0.8831168831168831, 0.8831168831168831, 0.8831168831168831, 0.8831168831168831, 0.8831168831168831, 0.8831168831168831, 0.8831168831168831, 0.8831168831168831, 0.8831168831168831, 0.8831168831168831, 0.8831168831168831, 0.8831168831168831, 0.8831168831168831, 0.8831168831168831, 0.8831168831168831, 0.8831168831168831, 0.8831168831168831, 0.8831168831168831, 0.8831168831168831, 0.8831168831168831, 0.8831168831168831, 0.8831168831168831, 0.8831168831168831, 0.8831168831168831, 0.8831168831168831, 0.8831168831168831, 0.8831168831168831, 0.8831168831168831, 0.8831168831168831, 0.8831168831168831, 0.8831168831168831, 0.8831168831168831, 0.8831168831168831, 0.8831168831168831, 0.8831168831168831, 0.8831168831168831, 0.8831168831168831, 0.8831168831168831, 0.8831168831168831, 0.8831168831168831, 0.8831168831168831, 0.8831168831168831, 0.8831168831168831, 0.8831168831168831, 0.8831168831168831, 0.8831168831168831, 0.8831168831168831, 0.8831168831168831, 0.8831168831168831, 0.8831168831168831, 0.8831168831168831, 0.8831168831168831, 0.8831168831168831, 0.8831168831168831, 0.8831168831168831, 0.8831168831168831, 0.8831168831168831, 0.8831168831168831, 0.8831168831168831, 0.8831168831168831, 0.8831168831168831, 0.8831168831168831, 0.8831168831168831, 0.8831168831168831, 0.8831168831168831, 0.8831168831168831, 0.8831168831168831, 0.8831168831168831, 0.8831168831168831, 0.8831168831168831, 0.8831168831168831, 0.8831168831168831, 0.8831168831168831, 0.8831168831168831, 0.8831168831168831, 0.8831168831168831, 0.8831168831168831, 0.8831168831168831, 0.8831168831168831, 0.8831168831168831, 0.8831168831168831, 0.8831168831168831, 0.8831168831168831, 0.8831168831168831, 0.8831168831168831, 0.8831168831168831, 0.8831168831168831, 0.8831168831168831, 0.8831168831168831, 0.8831168831168831, 0.8831168831168831, 0.8831168831168831, 0.8831168831168831, 0.8831168831168831, 0.8831168831168831, 0.8831168831168831, 0.8831168831168831, 0.8831168831168831, 0.8831168831168831, 0.8831168831168831, 0.8831168831168831, 0.8831168831168831, 0.8831168831168831, 0.8831168831168831, 0.8831168831168831, 0.8831168831168831, 0.8831168831168831, 0.8831168831168831, 0.8831168831168831, 0.8831168831168831, 0.8831168831168831, 0.8831168831168831, 0.8831168831168831, 0.8831168831168831, 0.8831168831168831, 0.8831168831168831, 0.8831168831168831, 0.8831168831168831, 0.8831168831168831, 0.8831168831168831, 0.8831168831168831, 0.8831168831168831, 0.8831168831168831, 0.8831168831168831, 0.8831168831168831, 0.8831168831168831, 0.8831168831168831, 0.8831168831168831, 0.8831168831168831, 0.8831168831168831, 0.8831168831168831, 0.8831168831168831, 0.8831168831168831, 0.8831168831168831, 0.8831168831168831, 0.8831168831168831, 0.8831168831168831, 0.8831168831168831, 0.8831168831168831, 0.8831168831168831, 0.8831168831168831, 0.8831168831168831, 0.8831168831168831, 0.8831168831168831, 0.8831168831168831, 0.8831168831168831, 0.8831168831168831, 0.8831168831168831, 0.8831168831168831, 0.8831168831168831, 0.8831168831168831, 0.8831168831168831, 0.8831168831168831, 0.8831168831168831, 0.8831168831168831, 0.8831168831168831, 0.8831168831168831, 0.8831168831168831, 0.8831168831168831, 0.8831168831168831, 0.8831168831168831, 0.8831168831168831, 0.8831168831168831, 0.8831168831168831, 0.8831168831168831, 0.8831168831168831, 0.8831168831168831, 0.8831168831168831, 0.8831168831168831, 0.8831168831168831, 0.8831168831168831, 0.8831168831168831, 0.8831168831168831, 0.8831168831168831, 0.8831168831168831, 0.8831168831168831, 0.8831168831168831, 0.8831168831168831, 0.8831168831168831, 0.8831168831168831, 0.8831168831168831, 0.8831168831168831, 0.8831168831168831, 0.8831168831168831, 0.8831168831168831, 0.8831168831168831, 0.8831168831168831, 0.8831168831168831, 0.8831168831168831, 0.8831168831168831, 0.8831168831168831, 0.8831168831168831, 0.8831168831168831, 0.8831168831168831, 0.8831168831168831, 0.8831168831168831, 0.8831168831168831, 0.8831168831168831, 0.8831168831168831, 0.8831168831168831, 0.8831168831168831, 0.8831168831168831, 0.8831168831168831, 0.8831168831168831, 0.8831168831168831, 0.8831168831168831, 0.8831168831168831, 0.8831168831168831, 0.8831168831168831, 0.8831168831168831, 0.8831168831168831, 0.8831168831168831, 0.8831168831168831, 0.8831168831168831, 0.8831168831168831, 0.8831168831168831, 0.8831168831168831, 0.8831168831168831, 0.8831168831168831, 0.8831168831168831, 0.8831168831168831, 0.8831168831168831, 0.8831168831168831, 0.8831168831168831, 0.8831168831168831, 0.8831168831168831, 0.8831168831168831, 0.8831168831168831, 0.8831168831168831, 0.8831168831168831, 0.8831168831168831, 0.8831168831168831, 0.8831168831168831, 0.8831168831168831, 0.8831168831168831, 0.8831168831168831, 0.8831168831168831, 0.8831168831168831, 0.8831168831168831, 0.8831168831168831, 0.8831168831168831, 0.8831168831168831, 0.8831168831168831, 0.8831168831168831, 0.8831168831168831, 0.8831168831168831, 0.8831168831168831, 0.8831168831168831, 0.8831168831168831, 0.8831168831168831, 0.8831168831168831, 0.8831168831168831, 0.8831168831168831, 0.8831168831168831, 0.8831168831168831, 0.8831168831168831, 0.8831168831168831, 0.8831168831168831, 0.8831168831168831, 0.8831168831168831, 0.8831168831168831, 0.8831168831168831, 0.8831168831168831, 0.8831168831168831, 0.8831168831168831, 0.8831168831168831, 0.8831168831168831, 0.8831168831168831, 0.8831168831168831, 0.8831168831168831, 0.8831168831168831, 0.8831168831168831, 0.8831168831168831, 0.8831168831168831, 0.8831168831168831, 0.8831168831168831, 0.8831168831168831, 0.8831168831168831, 0.8831168831168831, 0.8831168831168831, 0.8831168831168831, 0.8831168831168831, 0.8831168831168831, 0.8831168831168831, 0.8831168831168831, 0.8831168831168831, 0.8831168831168831, 0.8831168831168831, 0.8831168831168831, 0.8831168831168831, 0.8831168831168831, 0.8831168831168831, 0.8831168831168831, 0.8831168831168831, 0.8831168831168831, 0.8831168831168831, 0.8831168831168831, 0.8831168831168831, 0.8831168831168831, 0.8831168831168831, 0.8831168831168831]\n"
          ]
        }
      ]
    },
    {
      "cell_type": "markdown",
      "source": [
        "Testando a melhor configuração"
      ],
      "metadata": {
        "id": "VZMvRA9CeiiF"
      }
    },
    {
      "cell_type": "code",
      "source": [
        "acuracia  = arvore_decisao_teste(solucao_atual)\n",
        "printarIndividuo(solucao_atual)\n",
        "print(\"Acurácia: \", acuracia)\n",
        "\n",
        "# critério:\t\t entropy\n",
        "# profundidade:\t\t 9\n",
        "# min_samples_leaf:\t 6\n",
        "# min_samples_split:\t 3\n",
        "# splitter:\t\t random\n",
        "# fitness:\t\t 0.961038961038961"
      ],
      "metadata": {
        "colab": {
          "base_uri": "https://localhost:8080/"
        },
        "id": "KAIFt6MQenzp",
        "outputId": "cd83900e-edd9-48a5-9798-d96a71af779f"
      },
      "execution_count": null,
      "outputs": [
        {
          "output_type": "stream",
          "name": "stdout",
          "text": [
            "critério:\t\t entropy\n",
            "profundidade:\t\t 4\n",
            "min_samples_leaf:\t 4\n",
            "min_samples_split:\t 5\n",
            "splitter:\t\t random\n",
            "fitness:\t\t 0.8831168831168831\n",
            "\n",
            "Acurácia:  0.7307692307692307\n"
          ]
        }
      ]
    },
    {
      "cell_type": "markdown",
      "source": [
        "# Tarefas:\n",
        "\n",
        "* ✅ Definir alfa como variável global\n",
        "* ✅ Fazer nova árvore de decisão\n",
        " * Mesma função, trocar x_validacao e y_validacao por x_teste e y_teste\n",
        "* ✅ Plotar ID da temperatura\n",
        "* ✅ Fazer o teste do SA e do AG\n",
        "* Random Forest"
      ],
      "metadata": {
        "id": "isoZQ2lCZkJf"
      }
    }
  ]
}