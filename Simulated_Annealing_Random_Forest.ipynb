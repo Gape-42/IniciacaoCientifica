{
  "nbformat": 4,
  "nbformat_minor": 0,
  "metadata": {
    "colab": {
      "provenance": [],
      "mount_file_id": "1KgP5eRqSuxBXIQmv0esUGVuV3y0aNfHi",
      "authorship_tag": "ABX9TyMeLdF8M3eCFtYqGmgSBNGx",
      "include_colab_link": true
    },
    "kernelspec": {
      "name": "python3",
      "display_name": "Python 3"
    },
    "language_info": {
      "name": "python"
    }
  },
  "cells": [
    {
      "cell_type": "markdown",
      "metadata": {
        "id": "view-in-github",
        "colab_type": "text"
      },
      "source": [
        "<a href=\"https://colab.research.google.com/github/Gape-42/IniciacaoCientifica/blob/main/Simulated_Annealing_Random_Forest.ipynb\" target=\"_parent\"><img src=\"https://colab.research.google.com/assets/colab-badge.svg\" alt=\"Open In Colab\"/></a>"
      ]
    },
    {
      "cell_type": "markdown",
      "metadata": {
        "id": "ASyF54qs_iNH"
      },
      "source": [
        "**Importando bibliotecas**\n",
        "\n",
        "\n"
      ]
    },
    {
      "cell_type": "code",
      "source": [
        "import pandas as pd\n",
        "import random\n",
        "import math\n",
        "import copy\n",
        "from matplotlib import pyplot as plt\n",
        "from sklearn.utils import shuffle\n",
        "from sklearn.model_selection import train_test_split\n",
        "from sklearn.ensemble import RandomForestClassifier\n",
        "from sklearn.metrics import accuracy_score"
      ],
      "metadata": {
        "id": "c9DK1JJpJaq2"
      },
      "execution_count": null,
      "outputs": []
    },
    {
      "cell_type": "markdown",
      "source": [
        "Carregando conjunto de dados"
      ],
      "metadata": {
        "id": "QXUB5hkbpOjS"
      }
    },
    {
      "cell_type": "code",
      "source": [
        "from google.colab import drive\n",
        "drive.mount('/content/drive')\n",
        "base_de_dados = 'Vertebral.csv' #Alterar nome para escolher nova base de dados\n",
        "caminho_dos_dados = '/content/drive/MyDrive/Colab Notebooks/Iniciação Científica/Bases de dados/'"
      ],
      "metadata": {
        "id": "_AtWRxnoMMaX",
        "colab": {
          "base_uri": "https://localhost:8080/"
        },
        "outputId": "5995593c-8440-425a-8841-730549cecd30"
      },
      "execution_count": null,
      "outputs": [
        {
          "output_type": "stream",
          "name": "stdout",
          "text": [
            "Mounted at /content/drive\n"
          ]
        }
      ]
    },
    {
      "cell_type": "code",
      "execution_count": null,
      "metadata": {
        "id": "_xGjl9qpwjly"
      },
      "outputs": [],
      "source": [
        "dados = pd.read_csv(caminho_dos_dados + base_de_dados)\n",
        "dados = shuffle(dados)\n",
        "X = dados.iloc[:,:-1]\n",
        "Y = dados.iloc[:,-1]"
      ]
    },
    {
      "cell_type": "markdown",
      "source": [
        "Gerando os conjuntos de treino, teste e validação"
      ],
      "metadata": {
        "id": "0jL3cCN3-cd0"
      }
    },
    {
      "cell_type": "code",
      "source": [
        "x_treino,x_temp,y_treino,y_temp=train_test_split(X,Y,test_size=0.5,stratify=Y)\n",
        "x_validacao,x_teste,y_validacao,y_teste=train_test_split(x_temp,y_temp,test_size=0.5, stratify = y_temp)"
      ],
      "metadata": {
        "id": "XreTHd4x-JL2"
      },
      "execution_count": null,
      "outputs": []
    },
    {
      "cell_type": "markdown",
      "source": [
        " Constantes"
      ],
      "metadata": {
        "id": "xvlQpoah6pw_"
      }
    },
    {
      "cell_type": "code",
      "source": [
        "NUMERO_DE_ARVORES_FLORESTA = 200\n",
        "INTERVALO_FLORESTA = 20\n",
        "SA_MAX = 5\n",
        "ALFA = 0.995\n",
        "TEMPERATURA_MINIMA = 0.005"
      ],
      "metadata": {
        "id": "VLBTVhVR6bJP"
      },
      "execution_count": null,
      "outputs": []
    },
    {
      "cell_type": "markdown",
      "source": [
        "Definindo os individuos"
      ],
      "metadata": {
        "id": "3itt373ZwA1j"
      }
    },
    {
      "cell_type": "code",
      "source": [
        "class individuos:\n",
        "  def __init__(self, numero_de_arvores, criterio, profundidade, min_samples_split, min_samples_leaf, fitness):\n",
        "    self.numero_de_arvores = numero_de_arvores\n",
        "    self.criterio = criterio\n",
        "    self.profundidade = profundidade\n",
        "    self.min_samples_split = min_samples_split\n",
        "    self.min_samples_leaf = min_samples_leaf\n",
        "    self.fitness = fitness"
      ],
      "metadata": {
        "id": "L01Ymdm8rQJK"
      },
      "execution_count": null,
      "outputs": []
    },
    {
      "cell_type": "markdown",
      "source": [
        "Funções"
      ],
      "metadata": {
        "id": "ygr8gdnv8bgX"
      }
    },
    {
      "cell_type": "code",
      "source": [
        "def random_forest_validacao(individuo):\n",
        "  RF = RandomForestClassifier(n_estimators=individuo.numero_de_arvores, criterion=individuo.criterio, max_depth=individuo.profundidade, min_samples_split=individuo.min_samples_split, min_samples_leaf=individuo.min_samples_leaf)\n",
        "  RF.fit(x_treino,y_treino)\n",
        "  opiniao = RF.predict(x_validacao)\n",
        "  return accuracy_score(y_validacao, opiniao)\n",
        "\n",
        "def random_forest_teste(individuo):\n",
        "  RF = RandomForestClassifier(n_estimators=individuo.numero_de_arvores, criterion=individuo.criterio, max_depth=individuo.profundidade, min_samples_split=individuo.min_samples_split, min_samples_leaf=individuo.min_samples_leaf)\n",
        "  RF.fit(x_treino,y_treino)\n",
        "  opiniao = RF.predict(x_teste)\n",
        "  return accuracy_score(y_teste, opiniao)\n",
        "\n",
        "def printarIndividuo(individuo):\n",
        "  print(\"numero_de_arvores:\\t\", individuo.numero_de_arvores)\n",
        "  print(\"critério:\\t\\t\", individuo.criterio)\n",
        "  print(\"profundidade:\\t\\t\", individuo.profundidade)\n",
        "  print(\"min_samples_split:\\t\", individuo.min_samples_split)\n",
        "  print(\"min_samples_leaf:\\t\", individuo.min_samples_leaf)\n",
        "  print(\"fitness:\\t\\t\", individuo.fitness)\n",
        "  print()\n",
        "\n",
        "def metropolis():\n",
        "    return random.random()\n",
        "\n",
        "def gerarIndividuoAleatorio():\n",
        "    individuo = individuos(None, None, None, None, None, None)\n",
        "    individuo.numero_de_arvores = random.randint(1, NUMERO_DE_ARVORES_FLORESTA/INTERVALO_FLORESTA) * INTERVALO_FLORESTA\n",
        "    individuo.criterio = random.choice([\"gini\", \"entropy\"])\n",
        "    individuo.profundidade = random.randint(1, 10)                  #\n",
        "    individuo.min_samples_split = random.randint(2, 15)             #É preciso alterar?\n",
        "    individuo.min_samples_leaf = random.randint(1, 10)              #\n",
        "    individuo.fitness = 0\n",
        "    return individuo\n",
        "\n",
        "#Esolhe um atributo para modificar e fazer um vizinho\n",
        "def escolherAtributo():\n",
        "    return random.choice([\"numero_de_arvores\", \"criterio\", \"profundidade\", \"min_samples_split\", \"min_samples_leaf\"])\n",
        "\n",
        "def gerarVizinho(individuo, Atributo):\n",
        "    vizinho = copy.copy(individuo)\n",
        "\n",
        "    if Atributo == \"numero_de_arvores\":\n",
        "        vizinho.numero_de_arvores = random.randint(1, NUMERO_DE_ARVORES_FLORESTA/INTERVALO_FLORESTA) * INTERVALO_FLORESTA\n",
        "    if Atributo == \"criterio\":\n",
        "        vizinho.criterio = random.choice([\"gini\", \"entropy\"])\n",
        "    if Atributo == \"profundidade\":\n",
        "        vizinho.profundidade = random.randint(1, 10)\n",
        "    if Atributo == \"min_samples_split\":\n",
        "        vizinho.min_samples_split = random.randint(2, 15)\n",
        "    if Atributo == \"min_samples_leaf\":\n",
        "        vizinho.min_samples_leaf = random.randint(1, 10)\n",
        "\n",
        "    return vizinho\n",
        "\n",
        "#Variação da solução atual\n",
        "#∆E = Ei+1 - Ei\n",
        "def variacaoSolucao(individuo, vizinho):\n",
        "    return vizinho.fitness - individuo.fitness\n",
        "\n",
        "#Probabilidade de aceitar piora (minimização)\n",
        "# P(∆E) = e^(∆E/T)\n",
        "def probabilidadePiora(variacao, temperatura):\n",
        "    return math.exp(variacao / temperatura)\n",
        "\n",
        "#Resfriamento\n",
        "def resfriamento(temperatura):\n",
        "    return temperatura * ALFA\n",
        "\n",
        "#Gerar temperatura inicial\n",
        "def temperaturaInicial():\n",
        "    ind1 = gerarIndividuoAleatorio()\n",
        "    vizinhos = []\n",
        "    TempInicial = 0\n",
        "    for i in range (3):\n",
        "      vizinhos.append(gerarVizinho(ind1, escolherAtributo()))\n",
        "      vizinhos[i].fitness = random_forest_validacao(vizinhos[i])\n",
        "\n",
        "    for i in range (3):\n",
        "      TempInicial = TempInicial + vizinhos[i].fitness\n",
        "    TempInicial = TempInicial/3\n",
        "\n",
        "    return TempInicial"
      ],
      "metadata": {
        "id": "lGJtjt2k8eJh"
      },
      "execution_count": null,
      "outputs": []
    },
    {
      "cell_type": "markdown",
      "source": [
        "Iniciando o algoritmo"
      ],
      "metadata": {
        "id": "ySIfgt9s3VOu"
      }
    },
    {
      "cell_type": "code",
      "source": [
        "solucao_atual = gerarIndividuoAleatorio()\n",
        "solucao_atual.fitness = random_forest_validacao(solucao_atual)\n",
        "melhor_individuo = solucao_atual\n",
        "temperatura = temperaturaInicial()\n",
        "iteracao = 0\n",
        "\n",
        "#gráfico\n",
        "temperaturas = []\n",
        "melhores_individuos = []\n",
        "\n",
        "while(temperatura > TEMPERATURA_MINIMA):\n",
        "    #vetores para fazer o gráfico\n",
        "    temperaturas.append(temperatura)\n",
        "    melhores_individuos.append(melhor_individuo.fitness)\n",
        "\n",
        "    while(iteracao < SA_MAX):\n",
        "        iteracao += 1\n",
        "        vizinho = gerarVizinho(solucao_atual, escolherAtributo())\n",
        "        vizinho.fitness = random_forest_validacao(vizinho)\n",
        "        delta = variacaoSolucao(solucao_atual, vizinho)\n",
        "\n",
        "        if(delta > 0):\n",
        "            solucao_atual = vizinho\n",
        "            if(vizinho.fitness > melhor_individuo.fitness):\n",
        "                melhor_individuo = vizinho\n",
        "        else:\n",
        "            x = metropolis()\n",
        "            piora = probabilidadePiora(delta, temperatura)\n",
        "            if(x < piora):\n",
        "                solucao_atual = vizinho\n",
        "\n",
        "    temperatura = resfriamento(temperatura)\n",
        "    iteracao = 0\n",
        "\n",
        "solucao_atual = melhor_individuo\n",
        "printarIndividuo(solucao_atual)"
      ],
      "metadata": {
        "colab": {
          "base_uri": "https://localhost:8080/"
        },
        "id": "01BZAh2d3RGW",
        "outputId": "624c1c16-3dfa-4ac8-afb3-6a4e5afb4dda"
      },
      "execution_count": null,
      "outputs": [
        {
          "output_type": "stream",
          "name": "stdout",
          "text": [
            "numero_de_arvores:\t 20\n",
            "critério:\t\t entropy\n",
            "profundidade:\t\t 2\n",
            "min_samples_split:\t 2\n",
            "min_samples_leaf:\t 5\n",
            "fitness:\t\t 0.8831168831168831\n",
            "\n"
          ]
        }
      ]
    },
    {
      "cell_type": "markdown",
      "source": [
        "Gerando o gráfico"
      ],
      "metadata": {
        "id": "VrkgAvWatMCm"
      }
    },
    {
      "cell_type": "code",
      "source": [
        "quantidade_temperaturas = len(temperaturas)\n",
        "id_temperaturas =  list(range(quantidade_temperaturas, 0, -1))\n",
        "# ax1 = plt.gca()\n",
        "# ax1.invert_xaxis()\n",
        "plt.grid(True)\n",
        "plt.plot(id_temperaturas, temperaturas, label=\"Temperatura\")\n",
        "plt.plot(id_temperaturas, melhores_individuos, label=\"Fitness\")\n",
        "plt.legend()\n",
        "plt.show()"
      ],
      "metadata": {
        "colab": {
          "base_uri": "https://localhost:8080/",
          "height": 211
        },
        "id": "8zyHcZgucjnj",
        "outputId": "1d24425a-0c94-4d15-81d4-bda4cd2a7aa5"
      },
      "execution_count": null,
      "outputs": [
        {
          "output_type": "error",
          "ename": "NameError",
          "evalue": "name 'temperaturas' is not defined",
          "traceback": [
            "\u001b[0;31m---------------------------------------------------------------------------\u001b[0m",
            "\u001b[0;31mNameError\u001b[0m                                 Traceback (most recent call last)",
            "\u001b[0;32m<ipython-input-7-7fed5f4d1d6e>\u001b[0m in \u001b[0;36m<cell line: 0>\u001b[0;34m()\u001b[0m\n\u001b[0;32m----> 1\u001b[0;31m \u001b[0mquantidade_temperaturas\u001b[0m \u001b[0;34m=\u001b[0m \u001b[0mlen\u001b[0m\u001b[0;34m(\u001b[0m\u001b[0mtemperaturas\u001b[0m\u001b[0;34m)\u001b[0m\u001b[0;34m\u001b[0m\u001b[0;34m\u001b[0m\u001b[0m\n\u001b[0m\u001b[1;32m      2\u001b[0m \u001b[0mid_temperaturas\u001b[0m \u001b[0;34m=\u001b[0m  \u001b[0mlist\u001b[0m\u001b[0;34m(\u001b[0m\u001b[0mrange\u001b[0m\u001b[0;34m(\u001b[0m\u001b[0mquantidade_temperaturas\u001b[0m\u001b[0;34m,\u001b[0m \u001b[0;36m0\u001b[0m\u001b[0;34m,\u001b[0m \u001b[0;34m-\u001b[0m\u001b[0;36m1\u001b[0m\u001b[0;34m)\u001b[0m\u001b[0;34m)\u001b[0m\u001b[0;34m\u001b[0m\u001b[0;34m\u001b[0m\u001b[0m\n\u001b[1;32m      3\u001b[0m \u001b[0mplt\u001b[0m\u001b[0;34m.\u001b[0m\u001b[0mgrid\u001b[0m\u001b[0;34m(\u001b[0m\u001b[0;32mTrue\u001b[0m\u001b[0;34m)\u001b[0m\u001b[0;34m\u001b[0m\u001b[0;34m\u001b[0m\u001b[0m\n\u001b[1;32m      4\u001b[0m \u001b[0mplt\u001b[0m\u001b[0;34m.\u001b[0m\u001b[0mplot\u001b[0m\u001b[0;34m(\u001b[0m\u001b[0mid_temperaturas\u001b[0m\u001b[0;34m,\u001b[0m \u001b[0mtemperaturas\u001b[0m\u001b[0;34m,\u001b[0m \u001b[0mlabel\u001b[0m\u001b[0;34m=\u001b[0m\u001b[0;34m\"Temperatura\"\u001b[0m\u001b[0;34m)\u001b[0m\u001b[0;34m\u001b[0m\u001b[0;34m\u001b[0m\u001b[0m\n\u001b[1;32m      5\u001b[0m \u001b[0mplt\u001b[0m\u001b[0;34m.\u001b[0m\u001b[0mplot\u001b[0m\u001b[0;34m(\u001b[0m\u001b[0mid_temperaturas\u001b[0m\u001b[0;34m,\u001b[0m \u001b[0mmelhores_individuos\u001b[0m\u001b[0;34m,\u001b[0m \u001b[0mlabel\u001b[0m\u001b[0;34m=\u001b[0m\u001b[0;34m\"Fitness\"\u001b[0m\u001b[0;34m)\u001b[0m\u001b[0;34m\u001b[0m\u001b[0;34m\u001b[0m\u001b[0m\n",
            "\u001b[0;31mNameError\u001b[0m: name 'temperaturas' is not defined"
          ]
        }
      ]
    },
    {
      "cell_type": "markdown",
      "source": [
        "Testando a melhor configuração"
      ],
      "metadata": {
        "id": "VZMvRA9CeiiF"
      }
    },
    {
      "cell_type": "code",
      "source": [
        "media_acuracia = 0\n",
        "for i in range(100):\n",
        "    acuracia  = random_forest_teste(solucao_atual)\n",
        "    # print(acuracia)\n",
        "    media_acuracia += acuracia\n",
        "\n",
        "media_acuracia /= 100\n",
        "\n",
        "printarIndividuo(solucao_atual)\n",
        "print(\"Média acurácia: \", media_acuracia)"
      ],
      "metadata": {
        "colab": {
          "base_uri": "https://localhost:8080/"
        },
        "id": "KAIFt6MQenzp",
        "outputId": "266079f7-0d4f-4430-b0bb-10e73492d214"
      },
      "execution_count": null,
      "outputs": [
        {
          "output_type": "stream",
          "name": "stdout",
          "text": [
            "numero_de_arvores:\t 20\n",
            "critério:\t\t entropy\n",
            "profundidade:\t\t 2\n",
            "min_samples_split:\t 2\n",
            "min_samples_leaf:\t 5\n",
            "fitness:\t\t 0.8831168831168831\n",
            "\n",
            "Média acurácia:  0.8066666666666664\n"
          ]
        }
      ]
    },
    {
      "cell_type": "code",
      "source": [
        "# numero_de_arvores:\t 20\n",
        "# critério:\t\t entropy\n",
        "# profundidade:\t\t 3\n",
        "# min_samples_split:\t 4\n",
        "# min_samples_leaf:\t 2\n",
        "# fitness:\t\t 0.8571428571428571\n",
        "\n",
        "# Média acurácia:  0.7500000000000006\n",
        "\n",
        "# numero_de_arvores:\t 20\n",
        "# critério:\t\t entropy\n",
        "# profundidade:\t\t 5\n",
        "# min_samples_split:\t 10\n",
        "# min_samples_leaf:\t 5\n",
        "# fitness:\t\t 0.8831168831168831\n",
        "\n",
        "# Média acurácia:  0.8425641025641022\n",
        "\n",
        "# numero_de_arvores:\t 20\n",
        "# critério:\t\t entropy\n",
        "# profundidade:\t\t 10\n",
        "# min_samples_split:\t 13\n",
        "# min_samples_leaf:\t 10\n",
        "# fitness:\t\t 0.9090909090909091\n",
        "\n",
        "# Média acurácia:  0.8542307692307685\n",
        "\n",
        "# numero_de_arvores:\t 80\n",
        "# critério:\t\t gini\n",
        "# profundidade:\t\t 9\n",
        "# min_samples_split:\t 2\n",
        "# min_samples_leaf:\t 1\n",
        "# fitness:\t\t 0.9090909090909091\n",
        "\n",
        "# Média acurácia:  0.8114102564102559\n",
        "\n",
        "# numero_de_arvores:\t 80\n",
        "# critério:\t\t gini\n",
        "# profundidade:\t\t 2\n",
        "# min_samples_split:\t 15\n",
        "# min_samples_leaf:\t 1\n",
        "# fitness:\t\t 0.8961038961038961\n",
        "\n",
        "# Média acurácia:  0.8326923076923068\n",
        "\n",
        "# numero_de_arvores:\t 20\n",
        "# critério:\t\t entropy\n",
        "# profundidade:\t\t 2\n",
        "# min_samples_split:\t 2\n",
        "# min_samples_leaf:\t 5\n",
        "# fitness:\t\t 0.8831168831168831\n",
        "\n",
        "# Média acurácia:  0.8042307692307686"
      ],
      "metadata": {
        "id": "5SN-l4ydGnX3"
      },
      "execution_count": null,
      "outputs": []
    }
  ]
}